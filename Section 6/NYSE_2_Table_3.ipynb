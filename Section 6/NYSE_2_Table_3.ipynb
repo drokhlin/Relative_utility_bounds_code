{
 "cells": [
  {
   "cell_type": "code",
   "execution_count": 8,
   "metadata": {},
   "outputs": [],
   "source": [
    "\"\"\" This notebook \n",
    "(1) takes optimal portfolios from the file log_opt_portf_NYSE_2.txt, which correspond to n_experiment=30 runs of the GDSEG algorithm \n",
    "(2) drops small weights and normalizes the remaining ones\n",
    "(3) constructs the table containing optimal weights, total wealth and annual return for each portolio\n",
    "(4) constructs the table containing minimal and maximal values of each weight in these portfolios (Table 3 of the paper)\n",
    "The file log_opt_portf_NYSE_2.txt should be constructed by NYSE_2_log_GDSEG.ipynb beforehand\n",
    "\"\"\"\n",
    "import pandas as pd\n",
    "import numpy as np\n",
    "from scipy import stats"
   ]
  },
  {
   "cell_type": "code",
   "execution_count": 9,
   "metadata": {},
   "outputs": [
    {
     "output_type": "stream",
     "name": "stdout",
     "text": "(11178, 19)\n"
    },
    {
     "output_type": "execute_result",
     "data": {
      "text/plain": "       ahp    alcoa    amerb     coke      dow   dupont     ford       ge  \\\n0  1.01515  1.02765  1.04183  1.00637  1.00847  1.01983  1.00000  1.00000   \n1  1.01493  1.04036  0.98905  1.00475  1.00840  1.00833  1.00157  1.02187   \n2  1.00000  0.97629  0.97786  0.98583  0.99722  0.99449  0.98116  0.97860   \n3  1.02451  1.00662  1.02642  1.01917  0.99443  1.00693  1.02720  1.00795   \n4  1.03100  0.98465  1.00368  1.00313  1.02801  1.00413  1.04361  1.00394   \n\n        gm       hp      ibm    inger      jnj    kimbc    merck      mmm  \\\n0  1.01026  1.01935  1.00429  1.01357  0.99683  1.05340  1.03148  1.03377   \n1  0.99746  1.01266  0.99573  1.00446  1.00318  1.00461  1.00898  1.00251   \n2  0.98219  0.98125  0.98571  0.99556  0.95873  0.98165  0.98043  0.95990   \n3  0.98705  1.00637  1.01522  1.00000  1.01325  0.98131  1.01089  1.03655   \n4  1.00525  1.03165  1.02427  1.01563  1.00654  1.02381  1.01077  0.99496   \n\n    morris    pandg   schlum  \n0  1.01495  1.00775  1.01176  \n1  1.00000  1.00192  1.01938  \n2  0.97218  0.98656  0.97338  \n3  0.99663  1.00778  1.00000  \n4  0.98649  1.01158  1.01563  ",
      "text/html": "<div>\n<style scoped>\n    .dataframe tbody tr th:only-of-type {\n        vertical-align: middle;\n    }\n\n    .dataframe tbody tr th {\n        vertical-align: top;\n    }\n\n    .dataframe thead th {\n        text-align: right;\n    }\n</style>\n<table border=\"1\" class=\"dataframe\">\n  <thead>\n    <tr style=\"text-align: right;\">\n      <th></th>\n      <th>ahp</th>\n      <th>alcoa</th>\n      <th>amerb</th>\n      <th>coke</th>\n      <th>dow</th>\n      <th>dupont</th>\n      <th>ford</th>\n      <th>ge</th>\n      <th>gm</th>\n      <th>hp</th>\n      <th>ibm</th>\n      <th>inger</th>\n      <th>jnj</th>\n      <th>kimbc</th>\n      <th>merck</th>\n      <th>mmm</th>\n      <th>morris</th>\n      <th>pandg</th>\n      <th>schlum</th>\n    </tr>\n  </thead>\n  <tbody>\n    <tr>\n      <th>0</th>\n      <td>1.01515</td>\n      <td>1.02765</td>\n      <td>1.04183</td>\n      <td>1.00637</td>\n      <td>1.00847</td>\n      <td>1.01983</td>\n      <td>1.00000</td>\n      <td>1.00000</td>\n      <td>1.01026</td>\n      <td>1.01935</td>\n      <td>1.00429</td>\n      <td>1.01357</td>\n      <td>0.99683</td>\n      <td>1.05340</td>\n      <td>1.03148</td>\n      <td>1.03377</td>\n      <td>1.01495</td>\n      <td>1.00775</td>\n      <td>1.01176</td>\n    </tr>\n    <tr>\n      <th>1</th>\n      <td>1.01493</td>\n      <td>1.04036</td>\n      <td>0.98905</td>\n      <td>1.00475</td>\n      <td>1.00840</td>\n      <td>1.00833</td>\n      <td>1.00157</td>\n      <td>1.02187</td>\n      <td>0.99746</td>\n      <td>1.01266</td>\n      <td>0.99573</td>\n      <td>1.00446</td>\n      <td>1.00318</td>\n      <td>1.00461</td>\n      <td>1.00898</td>\n      <td>1.00251</td>\n      <td>1.00000</td>\n      <td>1.00192</td>\n      <td>1.01938</td>\n    </tr>\n    <tr>\n      <th>2</th>\n      <td>1.00000</td>\n      <td>0.97629</td>\n      <td>0.97786</td>\n      <td>0.98583</td>\n      <td>0.99722</td>\n      <td>0.99449</td>\n      <td>0.98116</td>\n      <td>0.97860</td>\n      <td>0.98219</td>\n      <td>0.98125</td>\n      <td>0.98571</td>\n      <td>0.99556</td>\n      <td>0.95873</td>\n      <td>0.98165</td>\n      <td>0.98043</td>\n      <td>0.95990</td>\n      <td>0.97218</td>\n      <td>0.98656</td>\n      <td>0.97338</td>\n    </tr>\n    <tr>\n      <th>3</th>\n      <td>1.02451</td>\n      <td>1.00662</td>\n      <td>1.02642</td>\n      <td>1.01917</td>\n      <td>0.99443</td>\n      <td>1.00693</td>\n      <td>1.02720</td>\n      <td>1.00795</td>\n      <td>0.98705</td>\n      <td>1.00637</td>\n      <td>1.01522</td>\n      <td>1.00000</td>\n      <td>1.01325</td>\n      <td>0.98131</td>\n      <td>1.01089</td>\n      <td>1.03655</td>\n      <td>0.99663</td>\n      <td>1.00778</td>\n      <td>1.00000</td>\n    </tr>\n    <tr>\n      <th>4</th>\n      <td>1.03100</td>\n      <td>0.98465</td>\n      <td>1.00368</td>\n      <td>1.00313</td>\n      <td>1.02801</td>\n      <td>1.00413</td>\n      <td>1.04361</td>\n      <td>1.00394</td>\n      <td>1.00525</td>\n      <td>1.03165</td>\n      <td>1.02427</td>\n      <td>1.01563</td>\n      <td>1.00654</td>\n      <td>1.02381</td>\n      <td>1.01077</td>\n      <td>0.99496</td>\n      <td>0.98649</td>\n      <td>1.01158</td>\n      <td>1.01563</td>\n    </tr>\n  </tbody>\n</table>\n</div>"
     },
     "metadata": {},
     "execution_count": 9
    }
   ],
   "source": [
    "# Importing NYSE_2 dataset\n",
    "stocks=pd.read_csv('NYSE_2.csv')\n",
    "print(stocks.shape)\n",
    "stocks.head()"
   ]
  },
  {
   "cell_type": "code",
   "execution_count": 10,
   "metadata": {},
   "outputs": [],
   "source": [
    "# r: array for stock returns\n",
    "N=stocks.shape[0]\n",
    "d=stocks.shape[1]\n",
    "r=np.zeros((N,d))\n",
    "r=stocks.to_numpy()"
   ]
  },
  {
   "cell_type": "code",
   "execution_count": 11,
   "metadata": {},
   "outputs": [],
   "source": [
    "def refine(w,tol=1/10**3):\n",
    "    \"\"\" Drops small weights and normalizes the remaining ones \"\"\"\n",
    "    d=w.shape[0]\n",
    "    opt_num=[i for i in range(d) if w[i]>tol]\n",
    "    w=w[opt_num]/np.sum(w[opt_num])    \n",
    "    return opt_num, w"
   ]
  },
  {
   "cell_type": "code",
   "execution_count": 12,
   "metadata": {
    "tags": [
     "outputPrepend"
    ]
   },
   "outputs": [],
   "source": [
    "# Take optimal portfolio weights from the file log_opt_portf_NYSE_2.txt\n",
    "f=open('log_opt_portf_NYSE_2.txt','r')\n",
    "n_experiments=sum(1 for line in f)\n",
    "f.close()\n",
    "opt_portf=np.zeros((n_experiments,d))\n",
    "f=open('log_opt_portf_NYSE_2.txt','r')\n",
    "s=-1\n",
    "for line in f:\n",
    "    s+=1\n",
    "    opt_portf[s,:]=[float(x) for x in line.split()]\n",
    "f.close()"
   ]
  },
  {
   "cell_type": "code",
   "execution_count": 13,
   "metadata": {},
   "outputs": [
    {
     "output_type": "stream",
     "name": "stdout",
     "text": "Annual standard deviation [0.23309536 0.23309392 0.23308874 0.23308991 0.23307343 0.23309154\n 0.23309585 0.2330972  0.23308381 0.23309987 0.23306694 0.23311011\n 0.23309072 0.23309754 0.23309203 0.23308756 0.23308846 0.23307945\n 0.23310785 0.23305959 0.23308448 0.23307694 0.23308851 0.23310127\n 0.23309975 0.2331001  0.23309458 0.23309441 0.23310855 0.2331101 ]\n0.2549095141322391\n0.29537351665307476\n0.23061558645184016\n0.24320327024989338\n0.2655855093408204\n0.24349769319861328\n0.2923389366228102\n0.2405178287646629\n0.2716151928645118\n0.3614240292306868\n0.25586431297482615\n0.28334478416157144\n0.24438426598271562\n0.24513412059049966\n0.25008087133897866\n0.2302558712683709\n0.26962358048019486\n0.22625562493698154\n0.3045337566120207\n"
    }
   ],
   "source": [
    "# wd: dictionary, containing optimal weights after dropping the small weights\n",
    "# opt_num_d: dictionary, containing the numbers of stocks with large weights\n",
    "# X[s]: total wealth of the optimal portolio with number s\n",
    "wd={}\n",
    "opt_num_d={}\n",
    "#X: wealth\n",
    "X=np.ones(n_experiments)\n",
    "#Y: annual standart deviation\n",
    "Y=np.zeros(n_experiments)\n",
    "z=[]\n",
    "for s in range(n_experiments):\n",
    "    opt_num, w = refine(opt_portf[s,:])  \n",
    "    opt_num_d[s]=opt_num\n",
    "    wd[s]=w\n",
    "    for t in range(N):\n",
    "        X[s]=X[s]*np.dot(w,r[t,opt_num])\n",
    "        z.append(np.dot(w,r[t,opt_num]))\n",
    "    Y[s]=np.std(z)*np.sqrt(252)\n",
    "    z=[]\n",
    "print('Annual standard deviation',Y)\n",
    "for k in range(d):\n",
    "    print(np.std(np.log(r[:,k]))*np.sqrt(252))"
   ]
  },
  {
   "cell_type": "code",
   "execution_count": 14,
   "metadata": {},
   "outputs": [
    {
     "output_type": "execute_result",
     "data": {
      "text/plain": "    hp  morris  schlum        hp    morris    schlum       Wealth  \\\n0    9      16      18  0.177511  0.747064  0.075425  4100.830209   \n1    9      16      18  0.177493  0.747063  0.075444  4100.830274   \n2    9      16      18  0.177471  0.747038  0.075491  4100.830373   \n3    9      16      18  0.177616  0.746973  0.075410  4100.829882   \n4    9      16      18  0.177464  0.746935  0.075601  4100.830381   \n5    9      16      18  0.177146  0.747220  0.075634  4100.829628   \n6    9      16      18  0.177399  0.747123  0.075477  4100.830343   \n7    9      16      18  0.177446  0.747109  0.075445  4100.830297   \n8    9      16      18  0.177534  0.746972  0.075494  4100.830257   \n9    9      16      18  0.177559  0.747071  0.075370  4100.829972   \n10   9      16      18  0.177457  0.746893  0.075649  4100.830308   \n11   9      16      18  0.177372  0.747236  0.075392  4100.829996   \n12   9      16      18  0.177464  0.747055  0.075481  4100.830365   \n13   9      16      18  0.177347  0.747161  0.075492  4100.830281   \n14   9      16      18  0.177358  0.747118  0.075525  4100.830372   \n15   9      16      18  0.177537  0.746997  0.075466  4100.830226   \n16   9      16      18  0.177219  0.747162  0.075619  4100.830032   \n17   9      16      18  0.177468  0.746975  0.075557  4100.830407   \n18   9      16      18  0.177490  0.747161  0.075349  4100.829973   \n19   9      16      18  0.177523  0.746809  0.075668  4100.830039   \n20   9      16      18  0.177462  0.747013  0.075525  4100.830412   \n21   9      16      18  0.177565  0.746909  0.075526  4100.830147   \n22   9      16      18  0.177414  0.747065  0.075521  4100.830428   \n23   9      16      18  0.177292  0.747215  0.075493  4100.830104   \n24   9      16      18  0.177534  0.747083  0.075383  4100.830063   \n25   9      16      18  0.177457  0.747124  0.075419  4100.830227   \n26   9      16      18  0.177537  0.747045  0.075417  4100.830146   \n27   9      16      18  0.177293  0.747167  0.075541  4100.830226   \n28   9      16      18  0.177369  0.747227  0.075404  4100.830042   \n29   9      16      18  0.177465  0.747189  0.075345  4100.829949   \n\n    Annual return  \n0        1.206284  \n1        1.206284  \n2        1.206284  \n3        1.206284  \n4        1.206284  \n5        1.206284  \n6        1.206284  \n7        1.206284  \n8        1.206284  \n9        1.206284  \n10       1.206284  \n11       1.206284  \n12       1.206284  \n13       1.206284  \n14       1.206284  \n15       1.206284  \n16       1.206284  \n17       1.206284  \n18       1.206284  \n19       1.206284  \n20       1.206284  \n21       1.206284  \n22       1.206284  \n23       1.206284  \n24       1.206284  \n25       1.206284  \n26       1.206284  \n27       1.206284  \n28       1.206284  \n29       1.206284  ",
      "text/html": "<div>\n<style scoped>\n    .dataframe tbody tr th:only-of-type {\n        vertical-align: middle;\n    }\n\n    .dataframe tbody tr th {\n        vertical-align: top;\n    }\n\n    .dataframe thead th {\n        text-align: right;\n    }\n</style>\n<table border=\"1\" class=\"dataframe\">\n  <thead>\n    <tr style=\"text-align: right;\">\n      <th></th>\n      <th>hp</th>\n      <th>morris</th>\n      <th>schlum</th>\n      <th>hp</th>\n      <th>morris</th>\n      <th>schlum</th>\n      <th>Wealth</th>\n      <th>Annual return</th>\n    </tr>\n  </thead>\n  <tbody>\n    <tr>\n      <th>0</th>\n      <td>9</td>\n      <td>16</td>\n      <td>18</td>\n      <td>0.177511</td>\n      <td>0.747064</td>\n      <td>0.075425</td>\n      <td>4100.830209</td>\n      <td>1.206284</td>\n    </tr>\n    <tr>\n      <th>1</th>\n      <td>9</td>\n      <td>16</td>\n      <td>18</td>\n      <td>0.177493</td>\n      <td>0.747063</td>\n      <td>0.075444</td>\n      <td>4100.830274</td>\n      <td>1.206284</td>\n    </tr>\n    <tr>\n      <th>2</th>\n      <td>9</td>\n      <td>16</td>\n      <td>18</td>\n      <td>0.177471</td>\n      <td>0.747038</td>\n      <td>0.075491</td>\n      <td>4100.830373</td>\n      <td>1.206284</td>\n    </tr>\n    <tr>\n      <th>3</th>\n      <td>9</td>\n      <td>16</td>\n      <td>18</td>\n      <td>0.177616</td>\n      <td>0.746973</td>\n      <td>0.075410</td>\n      <td>4100.829882</td>\n      <td>1.206284</td>\n    </tr>\n    <tr>\n      <th>4</th>\n      <td>9</td>\n      <td>16</td>\n      <td>18</td>\n      <td>0.177464</td>\n      <td>0.746935</td>\n      <td>0.075601</td>\n      <td>4100.830381</td>\n      <td>1.206284</td>\n    </tr>\n    <tr>\n      <th>5</th>\n      <td>9</td>\n      <td>16</td>\n      <td>18</td>\n      <td>0.177146</td>\n      <td>0.747220</td>\n      <td>0.075634</td>\n      <td>4100.829628</td>\n      <td>1.206284</td>\n    </tr>\n    <tr>\n      <th>6</th>\n      <td>9</td>\n      <td>16</td>\n      <td>18</td>\n      <td>0.177399</td>\n      <td>0.747123</td>\n      <td>0.075477</td>\n      <td>4100.830343</td>\n      <td>1.206284</td>\n    </tr>\n    <tr>\n      <th>7</th>\n      <td>9</td>\n      <td>16</td>\n      <td>18</td>\n      <td>0.177446</td>\n      <td>0.747109</td>\n      <td>0.075445</td>\n      <td>4100.830297</td>\n      <td>1.206284</td>\n    </tr>\n    <tr>\n      <th>8</th>\n      <td>9</td>\n      <td>16</td>\n      <td>18</td>\n      <td>0.177534</td>\n      <td>0.746972</td>\n      <td>0.075494</td>\n      <td>4100.830257</td>\n      <td>1.206284</td>\n    </tr>\n    <tr>\n      <th>9</th>\n      <td>9</td>\n      <td>16</td>\n      <td>18</td>\n      <td>0.177559</td>\n      <td>0.747071</td>\n      <td>0.075370</td>\n      <td>4100.829972</td>\n      <td>1.206284</td>\n    </tr>\n    <tr>\n      <th>10</th>\n      <td>9</td>\n      <td>16</td>\n      <td>18</td>\n      <td>0.177457</td>\n      <td>0.746893</td>\n      <td>0.075649</td>\n      <td>4100.830308</td>\n      <td>1.206284</td>\n    </tr>\n    <tr>\n      <th>11</th>\n      <td>9</td>\n      <td>16</td>\n      <td>18</td>\n      <td>0.177372</td>\n      <td>0.747236</td>\n      <td>0.075392</td>\n      <td>4100.829996</td>\n      <td>1.206284</td>\n    </tr>\n    <tr>\n      <th>12</th>\n      <td>9</td>\n      <td>16</td>\n      <td>18</td>\n      <td>0.177464</td>\n      <td>0.747055</td>\n      <td>0.075481</td>\n      <td>4100.830365</td>\n      <td>1.206284</td>\n    </tr>\n    <tr>\n      <th>13</th>\n      <td>9</td>\n      <td>16</td>\n      <td>18</td>\n      <td>0.177347</td>\n      <td>0.747161</td>\n      <td>0.075492</td>\n      <td>4100.830281</td>\n      <td>1.206284</td>\n    </tr>\n    <tr>\n      <th>14</th>\n      <td>9</td>\n      <td>16</td>\n      <td>18</td>\n      <td>0.177358</td>\n      <td>0.747118</td>\n      <td>0.075525</td>\n      <td>4100.830372</td>\n      <td>1.206284</td>\n    </tr>\n    <tr>\n      <th>15</th>\n      <td>9</td>\n      <td>16</td>\n      <td>18</td>\n      <td>0.177537</td>\n      <td>0.746997</td>\n      <td>0.075466</td>\n      <td>4100.830226</td>\n      <td>1.206284</td>\n    </tr>\n    <tr>\n      <th>16</th>\n      <td>9</td>\n      <td>16</td>\n      <td>18</td>\n      <td>0.177219</td>\n      <td>0.747162</td>\n      <td>0.075619</td>\n      <td>4100.830032</td>\n      <td>1.206284</td>\n    </tr>\n    <tr>\n      <th>17</th>\n      <td>9</td>\n      <td>16</td>\n      <td>18</td>\n      <td>0.177468</td>\n      <td>0.746975</td>\n      <td>0.075557</td>\n      <td>4100.830407</td>\n      <td>1.206284</td>\n    </tr>\n    <tr>\n      <th>18</th>\n      <td>9</td>\n      <td>16</td>\n      <td>18</td>\n      <td>0.177490</td>\n      <td>0.747161</td>\n      <td>0.075349</td>\n      <td>4100.829973</td>\n      <td>1.206284</td>\n    </tr>\n    <tr>\n      <th>19</th>\n      <td>9</td>\n      <td>16</td>\n      <td>18</td>\n      <td>0.177523</td>\n      <td>0.746809</td>\n      <td>0.075668</td>\n      <td>4100.830039</td>\n      <td>1.206284</td>\n    </tr>\n    <tr>\n      <th>20</th>\n      <td>9</td>\n      <td>16</td>\n      <td>18</td>\n      <td>0.177462</td>\n      <td>0.747013</td>\n      <td>0.075525</td>\n      <td>4100.830412</td>\n      <td>1.206284</td>\n    </tr>\n    <tr>\n      <th>21</th>\n      <td>9</td>\n      <td>16</td>\n      <td>18</td>\n      <td>0.177565</td>\n      <td>0.746909</td>\n      <td>0.075526</td>\n      <td>4100.830147</td>\n      <td>1.206284</td>\n    </tr>\n    <tr>\n      <th>22</th>\n      <td>9</td>\n      <td>16</td>\n      <td>18</td>\n      <td>0.177414</td>\n      <td>0.747065</td>\n      <td>0.075521</td>\n      <td>4100.830428</td>\n      <td>1.206284</td>\n    </tr>\n    <tr>\n      <th>23</th>\n      <td>9</td>\n      <td>16</td>\n      <td>18</td>\n      <td>0.177292</td>\n      <td>0.747215</td>\n      <td>0.075493</td>\n      <td>4100.830104</td>\n      <td>1.206284</td>\n    </tr>\n    <tr>\n      <th>24</th>\n      <td>9</td>\n      <td>16</td>\n      <td>18</td>\n      <td>0.177534</td>\n      <td>0.747083</td>\n      <td>0.075383</td>\n      <td>4100.830063</td>\n      <td>1.206284</td>\n    </tr>\n    <tr>\n      <th>25</th>\n      <td>9</td>\n      <td>16</td>\n      <td>18</td>\n      <td>0.177457</td>\n      <td>0.747124</td>\n      <td>0.075419</td>\n      <td>4100.830227</td>\n      <td>1.206284</td>\n    </tr>\n    <tr>\n      <th>26</th>\n      <td>9</td>\n      <td>16</td>\n      <td>18</td>\n      <td>0.177537</td>\n      <td>0.747045</td>\n      <td>0.075417</td>\n      <td>4100.830146</td>\n      <td>1.206284</td>\n    </tr>\n    <tr>\n      <th>27</th>\n      <td>9</td>\n      <td>16</td>\n      <td>18</td>\n      <td>0.177293</td>\n      <td>0.747167</td>\n      <td>0.075541</td>\n      <td>4100.830226</td>\n      <td>1.206284</td>\n    </tr>\n    <tr>\n      <th>28</th>\n      <td>9</td>\n      <td>16</td>\n      <td>18</td>\n      <td>0.177369</td>\n      <td>0.747227</td>\n      <td>0.075404</td>\n      <td>4100.830042</td>\n      <td>1.206284</td>\n    </tr>\n    <tr>\n      <th>29</th>\n      <td>9</td>\n      <td>16</td>\n      <td>18</td>\n      <td>0.177465</td>\n      <td>0.747189</td>\n      <td>0.075345</td>\n      <td>4100.829949</td>\n      <td>1.206284</td>\n    </tr>\n  </tbody>\n</table>\n</div>"
     },
     "metadata": {},
     "execution_count": 14
    }
   ],
   "source": [
    "# Table_A contains optimal weights, total wealth and annual return for each optimal portolio\n",
    "table_0=pd.DataFrame(data=[opt_num_d[s] for s in range(n_experiments)],columns=stocks.columns[opt_num_d[s]])\n",
    "table_1=pd.DataFrame(data=[wd[s] for s in range(n_experiments)],columns=stocks.columns[opt_num])\n",
    "table_2=pd.DataFrame(data=[X[s] for s in range(n_experiments)],columns=['Wealth'])\n",
    "table_3=pd.DataFrame(data=[X[s]**(252/N) for s in range(n_experiments)],columns=['Annual return'])\n",
    "Table_A=pd.concat([table_0,table_1,table_2,table_3],axis=1)\n",
    "Table_A"
   ]
  },
  {
   "cell_type": "code",
   "execution_count": 15,
   "metadata": {},
   "outputs": [
    {
     "output_type": "execute_result",
     "data": {
      "text/plain": "        min weight  max weight\nhp        0.177146    0.177616\nmorris    0.746809    0.747236\nschlum    0.075345    0.075668",
      "text/html": "<div>\n<style scoped>\n    .dataframe tbody tr th:only-of-type {\n        vertical-align: middle;\n    }\n\n    .dataframe tbody tr th {\n        vertical-align: top;\n    }\n\n    .dataframe thead th {\n        text-align: right;\n    }\n</style>\n<table border=\"1\" class=\"dataframe\">\n  <thead>\n    <tr style=\"text-align: right;\">\n      <th></th>\n      <th>min weight</th>\n      <th>max weight</th>\n    </tr>\n  </thead>\n  <tbody>\n    <tr>\n      <th>hp</th>\n      <td>0.177146</td>\n      <td>0.177616</td>\n    </tr>\n    <tr>\n      <th>morris</th>\n      <td>0.746809</td>\n      <td>0.747236</td>\n    </tr>\n    <tr>\n      <th>schlum</th>\n      <td>0.075345</td>\n      <td>0.075668</td>\n    </tr>\n  </tbody>\n</table>\n</div>"
     },
     "metadata": {},
     "execution_count": 15
    }
   ],
   "source": [
    "# Table_B contains minimal and maximal values of optimal portfolio weights (Table 3 of the paper)\n",
    "a1=pd.DataFrame(index=stocks.columns[opt_num],data=[table_1.min()[j] for j in range(len(opt_num))],columns=['min weight'])\n",
    "a2=pd.DataFrame(index=stocks.columns[opt_num],data=[table_1.max()[j] for j in range(len(opt_num))],columns=['max weight'])\n",
    "Table_B=pd.concat([a1,a2],axis=1)\n",
    "Table_B\n"
   ]
  },
  {
   "cell_type": "code",
   "execution_count": null,
   "metadata": {},
   "outputs": [],
   "source": []
  }
 ],
 "metadata": {
  "kernelspec": {
   "display_name": "Python 3",
   "language": "python",
   "name": "python3"
  },
  "language_info": {
   "codemirror_mode": {
    "name": "ipython",
    "version": 3
   },
   "file_extension": ".py",
   "mimetype": "text/x-python",
   "name": "python",
   "nbconvert_exporter": "python",
   "pygments_lexer": "ipython3",
   "version": "3.7.3-final"
  }
 },
 "nbformat": 4,
 "nbformat_minor": 2
}