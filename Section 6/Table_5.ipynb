{
 "cells": [
  {
   "cell_type": "code",
   "execution_count": 3,
   "metadata": {},
   "outputs": [],
   "source": [
    "\"\"\" This notebook \n",
    "(1) computes the parameters of the Black-Scholes model for NYSE_2 dataset\n",
    "(2) takes optimal portfolios for ordinary and relative power utilies from the files alpha_ordinary_opt_portf.txt and alpha_relative_opt_portf, \n",
    "formed by the notebooks GDSEG_alpha_ordinary.ipynb and GDSEG_alpha_relative.ipynb  \n",
    "(3) drops small weights and normalizes the remaining ones\n",
    "(4) evaluates statistical characteristics of the cumulative wealth of these portfolios, using large number (n_BS_realizations=100000) of realizations of the Black-Scholes model; \n",
    "the same for uniform and log-optimal portfolios (Table 5 of the paper)\n",
    "\"\"\"\n",
    "import pandas as pd\n",
    "import numpy as np\n",
    "from scipy import stats"
   ]
  },
  {
   "cell_type": "code",
   "execution_count": 4,
   "metadata": {},
   "outputs": [
    {
     "output_type": "stream",
     "name": "stdout",
     "text": "(11178, 19)\n"
    },
    {
     "output_type": "execute_result",
     "data": {
      "text/plain": "       ahp    alcoa    amerb     coke      dow   dupont     ford       ge  \\\n0  1.01515  1.02765  1.04183  1.00637  1.00847  1.01983  1.00000  1.00000   \n1  1.01493  1.04036  0.98905  1.00475  1.00840  1.00833  1.00157  1.02187   \n2  1.00000  0.97629  0.97786  0.98583  0.99722  0.99449  0.98116  0.97860   \n3  1.02451  1.00662  1.02642  1.01917  0.99443  1.00693  1.02720  1.00795   \n4  1.03100  0.98465  1.00368  1.00313  1.02801  1.00413  1.04361  1.00394   \n\n        gm       hp      ibm    inger      jnj    kimbc    merck      mmm  \\\n0  1.01026  1.01935  1.00429  1.01357  0.99683  1.05340  1.03148  1.03377   \n1  0.99746  1.01266  0.99573  1.00446  1.00318  1.00461  1.00898  1.00251   \n2  0.98219  0.98125  0.98571  0.99556  0.95873  0.98165  0.98043  0.95990   \n3  0.98705  1.00637  1.01522  1.00000  1.01325  0.98131  1.01089  1.03655   \n4  1.00525  1.03165  1.02427  1.01563  1.00654  1.02381  1.01077  0.99496   \n\n    morris    pandg   schlum  \n0  1.01495  1.00775  1.01176  \n1  1.00000  1.00192  1.01938  \n2  0.97218  0.98656  0.97338  \n3  0.99663  1.00778  1.00000  \n4  0.98649  1.01158  1.01563  ",
      "text/html": "<div>\n<style scoped>\n    .dataframe tbody tr th:only-of-type {\n        vertical-align: middle;\n    }\n\n    .dataframe tbody tr th {\n        vertical-align: top;\n    }\n\n    .dataframe thead th {\n        text-align: right;\n    }\n</style>\n<table border=\"1\" class=\"dataframe\">\n  <thead>\n    <tr style=\"text-align: right;\">\n      <th></th>\n      <th>ahp</th>\n      <th>alcoa</th>\n      <th>amerb</th>\n      <th>coke</th>\n      <th>dow</th>\n      <th>dupont</th>\n      <th>ford</th>\n      <th>ge</th>\n      <th>gm</th>\n      <th>hp</th>\n      <th>ibm</th>\n      <th>inger</th>\n      <th>jnj</th>\n      <th>kimbc</th>\n      <th>merck</th>\n      <th>mmm</th>\n      <th>morris</th>\n      <th>pandg</th>\n      <th>schlum</th>\n    </tr>\n  </thead>\n  <tbody>\n    <tr>\n      <th>0</th>\n      <td>1.01515</td>\n      <td>1.02765</td>\n      <td>1.04183</td>\n      <td>1.00637</td>\n      <td>1.00847</td>\n      <td>1.01983</td>\n      <td>1.00000</td>\n      <td>1.00000</td>\n      <td>1.01026</td>\n      <td>1.01935</td>\n      <td>1.00429</td>\n      <td>1.01357</td>\n      <td>0.99683</td>\n      <td>1.05340</td>\n      <td>1.03148</td>\n      <td>1.03377</td>\n      <td>1.01495</td>\n      <td>1.00775</td>\n      <td>1.01176</td>\n    </tr>\n    <tr>\n      <th>1</th>\n      <td>1.01493</td>\n      <td>1.04036</td>\n      <td>0.98905</td>\n      <td>1.00475</td>\n      <td>1.00840</td>\n      <td>1.00833</td>\n      <td>1.00157</td>\n      <td>1.02187</td>\n      <td>0.99746</td>\n      <td>1.01266</td>\n      <td>0.99573</td>\n      <td>1.00446</td>\n      <td>1.00318</td>\n      <td>1.00461</td>\n      <td>1.00898</td>\n      <td>1.00251</td>\n      <td>1.00000</td>\n      <td>1.00192</td>\n      <td>1.01938</td>\n    </tr>\n    <tr>\n      <th>2</th>\n      <td>1.00000</td>\n      <td>0.97629</td>\n      <td>0.97786</td>\n      <td>0.98583</td>\n      <td>0.99722</td>\n      <td>0.99449</td>\n      <td>0.98116</td>\n      <td>0.97860</td>\n      <td>0.98219</td>\n      <td>0.98125</td>\n      <td>0.98571</td>\n      <td>0.99556</td>\n      <td>0.95873</td>\n      <td>0.98165</td>\n      <td>0.98043</td>\n      <td>0.95990</td>\n      <td>0.97218</td>\n      <td>0.98656</td>\n      <td>0.97338</td>\n    </tr>\n    <tr>\n      <th>3</th>\n      <td>1.02451</td>\n      <td>1.00662</td>\n      <td>1.02642</td>\n      <td>1.01917</td>\n      <td>0.99443</td>\n      <td>1.00693</td>\n      <td>1.02720</td>\n      <td>1.00795</td>\n      <td>0.98705</td>\n      <td>1.00637</td>\n      <td>1.01522</td>\n      <td>1.00000</td>\n      <td>1.01325</td>\n      <td>0.98131</td>\n      <td>1.01089</td>\n      <td>1.03655</td>\n      <td>0.99663</td>\n      <td>1.00778</td>\n      <td>1.00000</td>\n    </tr>\n    <tr>\n      <th>4</th>\n      <td>1.03100</td>\n      <td>0.98465</td>\n      <td>1.00368</td>\n      <td>1.00313</td>\n      <td>1.02801</td>\n      <td>1.00413</td>\n      <td>1.04361</td>\n      <td>1.00394</td>\n      <td>1.00525</td>\n      <td>1.03165</td>\n      <td>1.02427</td>\n      <td>1.01563</td>\n      <td>1.00654</td>\n      <td>1.02381</td>\n      <td>1.01077</td>\n      <td>0.99496</td>\n      <td>0.98649</td>\n      <td>1.01158</td>\n      <td>1.01563</td>\n    </tr>\n  </tbody>\n</table>\n</div>"
     },
     "metadata": {},
     "execution_count": 4
    }
   ],
   "source": [
    "# Importing NYSE_2 dataset\n",
    "stocks=pd.read_csv('NYSE_2.csv')\n",
    "print(stocks.shape)\n",
    "stocks.head()"
   ]
  },
  {
   "cell_type": "code",
   "execution_count": 5,
   "metadata": {},
   "outputs": [],
   "source": [
    "# r: array for stock returns\n",
    "N=stocks.shape[0]\n",
    "d=stocks.shape[1]\n",
    "r=np.zeros((N,d))\n",
    "r=stocks.to_numpy()"
   ]
  },
  {
   "cell_type": "code",
   "execution_count": 6,
   "metadata": {},
   "outputs": [],
   "source": [
    "def refine(w,tol=1/10**3):\n",
    "    \"\"\" Drops small weights and normalizes the remaining ones \"\"\"\n",
    "    d=w.shape[0]\n",
    "    opt_num=[i for i in range(d) if w[i]>tol]\n",
    "    w=w[opt_num]/np.sum(w[opt_num])    \n",
    "    return opt_num, w"
   ]
  },
  {
   "cell_type": "code",
   "execution_count": 7,
   "metadata": {},
   "outputs": [
    {
     "output_type": "stream",
     "name": "stdout",
     "text": "[2.58e-04 6.60e-05 6.00e-05 8.30e-05 7.50e-05 7.10e-05 7.60e-05 8.70e-05\n 6.80e-05 8.60e-05 6.70e-05 6.80e-05 9.60e-05 6.40e-05 1.09e-04 7.40e-05\n 7.70e-05 7.60e-05 7.20e-05]\n[6.60e-05 3.46e-04 6.80e-05 7.40e-05 1.34e-04 1.16e-04 1.15e-04 1.07e-04\n 1.03e-04 1.19e-04 9.30e-05 1.20e-04 7.10e-05 7.30e-05 7.30e-05 9.60e-05\n 7.60e-05 6.30e-05 1.02e-04]\n[6.00e-05 6.80e-05 2.11e-04 6.50e-05 6.90e-05 6.70e-05 7.10e-05 7.20e-05\n 6.40e-05 7.40e-05 5.60e-05 7.10e-05 6.00e-05 5.70e-05 5.60e-05 6.40e-05\n 8.40e-05 5.80e-05 6.10e-05]\n[8.30e-05 7.40e-05 6.50e-05 2.35e-04 9.00e-05 8.60e-05 8.60e-05 9.90e-05\n 8.10e-05 9.60e-05 7.70e-05 7.40e-05 9.30e-05 7.30e-05 8.60e-05 8.60e-05\n 8.80e-05 9.50e-05 7.80e-05]\n[7.50e-05 1.34e-04 6.90e-05 9.00e-05 2.80e-04 1.35e-04 1.15e-04 1.12e-04\n 1.09e-04 1.17e-04 9.20e-05 1.19e-04 8.00e-05 7.70e-05 7.90e-05 1.05e-04\n 8.10e-05 7.60e-05 9.80e-05]\n[7.10e-05 1.16e-04 6.70e-05 8.60e-05 1.35e-04 2.35e-04 1.03e-04 1.05e-04\n 1.03e-04 1.08e-04 8.90e-05 1.03e-04 7.50e-05 7.20e-05 7.60e-05 1.01e-04\n 7.60e-05 7.60e-05 9.80e-05]\n[7.60e-05 1.15e-04 7.10e-05 8.60e-05 1.15e-04 1.03e-04 3.39e-04 1.18e-04\n 1.90e-04 1.31e-04 1.02e-04 1.08e-04 8.00e-05 7.00e-05 7.90e-05 9.20e-05\n 8.00e-05 7.10e-05 8.70e-05]\n[8.70e-05 1.07e-04 7.20e-05 9.90e-05 1.12e-04 1.05e-04 1.18e-04 2.30e-04\n 1.12e-04 1.34e-04 1.10e-04 1.03e-04 9.50e-05 7.60e-05 9.10e-05 1.01e-04\n 8.50e-05 8.50e-05 9.20e-05]\n[6.80e-05 1.03e-04 6.40e-05 8.10e-05 1.09e-04 1.03e-04 1.90e-04 1.12e-04\n 2.93e-04 1.24e-04 1.01e-04 1.03e-04 7.40e-05 6.70e-05 7.30e-05 9.10e-05\n 7.40e-05 6.80e-05 8.80e-05]\n[8.60e-05 1.19e-04 7.40e-05 9.60e-05 1.17e-04 1.08e-04 1.31e-04 1.34e-04\n 1.24e-04 5.18e-04 1.62e-04 1.14e-04 9.40e-05 6.90e-05 9.50e-05 1.11e-04\n 9.50e-05 8.00e-05 1.13e-04]\n[6.70e-05 9.30e-05 5.60e-05 7.70e-05 9.20e-05 8.90e-05 1.02e-04 1.10e-04\n 1.01e-04 1.62e-04 2.60e-04 8.40e-05 7.80e-05 5.70e-05 7.70e-05 8.80e-05\n 7.60e-05 6.60e-05 9.00e-05]\n[6.80e-05 1.20e-04 7.10e-05 7.40e-05 1.19e-04 1.03e-04 1.08e-04 1.03e-04\n 1.03e-04 1.14e-04 8.40e-05 3.19e-04 7.30e-05 7.70e-05 7.50e-05 9.40e-05\n 7.20e-05 7.20e-05 9.00e-05]\n[9.60e-05 7.10e-05 6.00e-05 9.30e-05 8.00e-05 7.50e-05 8.00e-05 9.50e-05\n 7.40e-05 9.40e-05 7.80e-05 7.30e-05 2.37e-04 6.40e-05 1.07e-04 8.10e-05\n 8.00e-05 8.50e-05 7.70e-05]\n[6.40e-05 7.30e-05 5.70e-05 7.30e-05 7.70e-05 7.20e-05 7.00e-05 7.60e-05\n 6.70e-05 6.90e-05 5.70e-05 7.70e-05 6.40e-05 2.38e-04 6.30e-05 7.10e-05\n 6.20e-05 7.60e-05 6.20e-05]\n[1.09e-04 7.30e-05 5.60e-05 8.60e-05 7.90e-05 7.60e-05 7.90e-05 9.10e-05\n 7.30e-05 9.50e-05 7.70e-05 7.50e-05 1.07e-04 6.30e-05 2.48e-04 7.60e-05\n 8.00e-05 8.00e-05 7.40e-05]\n[7.40e-05 9.60e-05 6.40e-05 8.60e-05 1.05e-04 1.01e-04 9.20e-05 1.01e-04\n 9.10e-05 1.11e-04 8.80e-05 9.40e-05 8.10e-05 7.10e-05 7.60e-05 2.10e-04\n 7.80e-05 8.10e-05 8.40e-05]\n[7.70e-05 7.60e-05 8.40e-05 8.80e-05 8.10e-05 7.60e-05 8.00e-05 8.50e-05\n 7.40e-05 9.50e-05 7.60e-05 7.20e-05 8.00e-05 6.20e-05 8.00e-05 7.80e-05\n 2.89e-04 7.70e-05 7.70e-05]\n[7.60e-05 6.30e-05 5.80e-05 9.50e-05 7.60e-05 7.60e-05 7.10e-05 8.50e-05\n 6.80e-05 8.00e-05 6.60e-05 7.20e-05 8.50e-05 7.60e-05 8.00e-05 8.10e-05\n 7.70e-05 2.03e-04 6.60e-05]\n[7.20e-05 1.02e-04 6.10e-05 7.80e-05 9.80e-05 9.80e-05 8.70e-05 9.20e-05\n 8.80e-05 1.13e-04 9.00e-05 9.00e-05 7.70e-05 6.20e-05 7.40e-05 8.40e-05\n 7.70e-05 6.60e-05 3.68e-04]\n"
    }
   ],
   "source": [
    "# Evaluating the covariance matrix\n",
    "cov=np.cov(np.log(r), rowvar=False)\n",
    "for i in range(d):\n",
    "    print(np.vectorize(round)(cov[i,0:d],6))"
   ]
  },
  {
   "cell_type": "code",
   "execution_count": 8,
   "metadata": {},
   "outputs": [
    {
     "output_type": "stream",
     "name": "stdout",
     "text": "0 0.00047387072759585606\n1 0.00034306595660099355\n2 0.0005110836528094722\n3 0.0005280394297623978\n4 0.0004367927786456425\n5 0.00032502495852828266\n6 0.00035672142791947346\n7 0.0004766729446252502\n8 0.0002617048409259715\n9 0.000548355527516207\n10 0.0003653120960748834\n11 0.0004130794529929951\n12 0.0005933246550213262\n13 0.00047998023510018777\n14 0.0005460947794247216\n15 0.0004085709396190517\n16 0.0007299668768228506\n17 0.0004784722559498487\n18 0.0005572075755420875\n"
    }
   ],
   "source": [
    "# Evaluating the expectation vector\n",
    "mu=np.mean(np.log(r),axis=0)\n",
    "for i in range(d):\n",
    "    print(i,mu[i])"
   ]
  },
  {
   "cell_type": "code",
   "execution_count": 9,
   "metadata": {},
   "outputs": [],
   "source": [
    "alphas=[0.01,0.1,0.2,0.3,0.5,0.75]"
   ]
  },
  {
   "cell_type": "code",
   "execution_count": 79,
   "metadata": {},
   "outputs": [],
   "source": [
    "# Take optimal portfolio weights from the file alpha_ordinary_opt_portf.txt\n",
    "f=open('alpha_ordinary_opt_portf.txt','r')\n",
    "n_alphas=sum(1 for line in f)\n",
    "f.close()\n",
    "opt_portf_od=np.zeros((n_alphas,d))\n",
    "f=open('alpha_ordinary_opt_portf.txt','r')\n",
    "s=-1\n",
    "for line in f:\n",
    "    s+=1\n",
    "    opt_portf_od[s,:]=[float(x) for x in line.split()]\n",
    "f.close()"
   ]
  },
  {
   "cell_type": "code",
   "execution_count": 80,
   "metadata": {
    "tags": [
     "outputPrepend",
     "outputPrepend",
     "outputPrepend",
     "outputPrepend",
     "outputPrepend",
     "outputPrepend"
    ]
   },
   "outputs": [
    {
     "output_type": "stream",
     "name": "stdout",
     "text": "[9, 16, 18] [0.17923866 0.75181211 0.06894922]\n[9, 16, 18] [0.1761729  0.77656499 0.04726211]\n[9, 16] [0.17794448 0.82205552]\n[9, 16] [0.15892071 0.84107929]\n[9, 16] [0.09719687 0.90280313]\n[16] [1.]\n"
    }
   ],
   "source": [
    "# Computaion of the array X_od of the cumulative wealths for optimal portfolios, corresponding to the ordinary power utilities\n",
    "N_days=252\n",
    "n_BS_realizations=100000\n",
    "X_od=np.ones((n_BS_realizations,n_alphas))\n",
    "for s in range(n_alphas):\n",
    "    opt_num, w = refine(opt_portf_od[s,:])\n",
    "    print(opt_num,w)\n",
    "    for realization in range(n_BS_realizations):\n",
    "        np.random.seed(42+realization)\n",
    "        r_artif=np.exp(np.random.multivariate_normal(mu,cov,N_days))\n",
    "        for t in range(N_days):\n",
    "            X_od[realization,s]=X_od[realization,s]*np.dot(w,r_artif[t,opt_num])"
   ]
  },
  {
   "cell_type": "code",
   "execution_count": 81,
   "metadata": {},
   "outputs": [
    {
     "output_type": "execute_result",
     "data": {
      "text/plain": "          Mean    Median  Std.dev.  5-th percentile  95-th percentile\n0.01  1.240436  1.207121  0.294690         0.818706          1.775147\n0.10  1.241397  1.207024  0.299457         0.814823          1.784850\n0.20  1.243321  1.206398  0.309909         0.804599          1.807914\n0.30  1.243712  1.206334  0.312268         0.802575          1.812198\n0.50  1.244980  1.205145  0.321832         0.792520          1.830633\n0.75  1.246979  1.202298  0.342399         0.770720          1.872546",
      "text/html": "<div>\n<style scoped>\n    .dataframe tbody tr th:only-of-type {\n        vertical-align: middle;\n    }\n\n    .dataframe tbody tr th {\n        vertical-align: top;\n    }\n\n    .dataframe thead th {\n        text-align: right;\n    }\n</style>\n<table border=\"1\" class=\"dataframe\">\n  <thead>\n    <tr style=\"text-align: right;\">\n      <th></th>\n      <th>Mean</th>\n      <th>Median</th>\n      <th>Std.dev.</th>\n      <th>5-th percentile</th>\n      <th>95-th percentile</th>\n    </tr>\n  </thead>\n  <tbody>\n    <tr>\n      <th>0.01</th>\n      <td>1.240436</td>\n      <td>1.207121</td>\n      <td>0.294690</td>\n      <td>0.818706</td>\n      <td>1.775147</td>\n    </tr>\n    <tr>\n      <th>0.10</th>\n      <td>1.241397</td>\n      <td>1.207024</td>\n      <td>0.299457</td>\n      <td>0.814823</td>\n      <td>1.784850</td>\n    </tr>\n    <tr>\n      <th>0.20</th>\n      <td>1.243321</td>\n      <td>1.206398</td>\n      <td>0.309909</td>\n      <td>0.804599</td>\n      <td>1.807914</td>\n    </tr>\n    <tr>\n      <th>0.30</th>\n      <td>1.243712</td>\n      <td>1.206334</td>\n      <td>0.312268</td>\n      <td>0.802575</td>\n      <td>1.812198</td>\n    </tr>\n    <tr>\n      <th>0.50</th>\n      <td>1.244980</td>\n      <td>1.205145</td>\n      <td>0.321832</td>\n      <td>0.792520</td>\n      <td>1.830633</td>\n    </tr>\n    <tr>\n      <th>0.75</th>\n      <td>1.246979</td>\n      <td>1.202298</td>\n      <td>0.342399</td>\n      <td>0.770720</td>\n      <td>1.872546</td>\n    </tr>\n  </tbody>\n</table>\n</div>"
     },
     "metadata": {},
     "execution_count": 81
    }
   ],
   "source": [
    "# A part of Table 5: the case of the ordinary power utility\n",
    "table=pd.DataFrame(index=alphas,columns=['Mean','Median','Std.dev.','5-th percentile','95-th percentile'])\n",
    "table['Mean']=np.mean(X_od,axis=0)\n",
    "table['Median']=np.median(X_od,axis=0)\n",
    "table['Std.dev.']=np.std(X_od,axis=0)\n",
    "table['5-th percentile']=np.percentile(X_od,5,axis=0)\n",
    "table['95-th percentile']=np.percentile(X_od,95,axis=0)\n",
    "table"
   ]
  },
  {
   "cell_type": "code",
   "execution_count": 82,
   "metadata": {},
   "outputs": [],
   "source": [
    "# Take optimal portfolio weights from the file alpha_relative_opt_portf.txt\n",
    "f=open('alpha_relative_opt_portf.txt','r')\n",
    "n_alphas=sum(1 for line in f)\n",
    "f.close()\n",
    "opt_portf_rel=np.zeros((n_alphas,d))\n",
    "f=open('alpha_relative_opt_portf.txt','r')\n",
    "s=-1\n",
    "for line in f:\n",
    "    s+=1\n",
    "    opt_portf_rel[s,:]=[float(x) for x in line.split()]\n",
    "f.close()"
   ]
  },
  {
   "cell_type": "code",
   "execution_count": 83,
   "metadata": {},
   "outputs": [
    {
     "output_type": "stream",
     "name": "stdout",
     "text": "[9, 16, 18] [0.17822128 0.75229438 0.06948434]\n[9, 16, 18] [0.16169497 0.78817551 0.05012953]\n[9, 16] [0.14762887 0.85237113]\n[9, 16] [0.10690907 0.89309093]\n[16] [1.]\n[16] [1.]\n"
    }
   ],
   "source": [
    "# Computaion of the array X_rel of the cumulative wealths for optimal portfolios, corresponding to the relative power utilities\n",
    "N_days=252\n",
    "n_BS_realizations=100000\n",
    "X_rel=np.ones((n_BS_realizations,n_alphas))\n",
    "for s in range(n_alphas):\n",
    "    opt_num, w = refine(opt_portf_rel[s,:])\n",
    "    print(opt_num,w)\n",
    "    for realization in range(n_BS_realizations):\n",
    "        np.random.seed(42+realization)\n",
    "        r_artif=np.exp(np.random.multivariate_normal(mu,cov,N_days))\n",
    "        for t in range(N_days):\n",
    "            X_rel[realization,s]=X_rel[realization,s]*np.dot(w,r_artif[t,opt_num])"
   ]
  },
  {
   "cell_type": "code",
   "execution_count": 84,
   "metadata": {},
   "outputs": [
    {
     "output_type": "execute_result",
     "data": {
      "text/plain": "          Mean    Median  Std.dev.  5-th percentile  95-th percentile\n0.01  1.240434  1.207152  0.294683         0.818814          1.774972\n0.10  1.241575  1.206924  0.300459         0.813602          1.787309\n0.20  1.243944  1.206244  0.313801         0.800829          1.815347\n0.30  1.244780  1.205223  0.320138         0.794224          1.828045\n0.50  1.246979  1.202298  0.342399         0.770720          1.872546\n0.75  1.246979  1.202298  0.342399         0.770720          1.872546",
      "text/html": "<div>\n<style scoped>\n    .dataframe tbody tr th:only-of-type {\n        vertical-align: middle;\n    }\n\n    .dataframe tbody tr th {\n        vertical-align: top;\n    }\n\n    .dataframe thead th {\n        text-align: right;\n    }\n</style>\n<table border=\"1\" class=\"dataframe\">\n  <thead>\n    <tr style=\"text-align: right;\">\n      <th></th>\n      <th>Mean</th>\n      <th>Median</th>\n      <th>Std.dev.</th>\n      <th>5-th percentile</th>\n      <th>95-th percentile</th>\n    </tr>\n  </thead>\n  <tbody>\n    <tr>\n      <th>0.01</th>\n      <td>1.240434</td>\n      <td>1.207152</td>\n      <td>0.294683</td>\n      <td>0.818814</td>\n      <td>1.774972</td>\n    </tr>\n    <tr>\n      <th>0.10</th>\n      <td>1.241575</td>\n      <td>1.206924</td>\n      <td>0.300459</td>\n      <td>0.813602</td>\n      <td>1.787309</td>\n    </tr>\n    <tr>\n      <th>0.20</th>\n      <td>1.243944</td>\n      <td>1.206244</td>\n      <td>0.313801</td>\n      <td>0.800829</td>\n      <td>1.815347</td>\n    </tr>\n    <tr>\n      <th>0.30</th>\n      <td>1.244780</td>\n      <td>1.205223</td>\n      <td>0.320138</td>\n      <td>0.794224</td>\n      <td>1.828045</td>\n    </tr>\n    <tr>\n      <th>0.50</th>\n      <td>1.246979</td>\n      <td>1.202298</td>\n      <td>0.342399</td>\n      <td>0.770720</td>\n      <td>1.872546</td>\n    </tr>\n    <tr>\n      <th>0.75</th>\n      <td>1.246979</td>\n      <td>1.202298</td>\n      <td>0.342399</td>\n      <td>0.770720</td>\n      <td>1.872546</td>\n    </tr>\n  </tbody>\n</table>\n</div>"
     },
     "metadata": {},
     "execution_count": 84
    }
   ],
   "source": [
    "# A part of Table 5: the case of the relative power utility\n",
    "table=pd.DataFrame(index=alphas,columns=['Mean','Median','Std.dev.','5-th percentile','95-th percentile'])\n",
    "table['Mean']=np.mean(X_rel,axis=0)\n",
    "table['Median']=np.median(X_rel,axis=0)\n",
    "table['Std.dev.']=np.std(X_rel,axis=0)\n",
    "table['5-th percentile']=np.percentile(X_rel,5,axis=0)\n",
    "table['95-th percentile']=np.percentile(X_rel,95,axis=0)\n",
    "table"
   ]
  },
  {
   "cell_type": "code",
   "execution_count": 90,
   "metadata": {},
   "outputs": [],
   "source": [
    "# Computaion of the array X_unif of the cumulative wealths for portfolios with uniform weights\n",
    "N_days=252\n",
    "w=np.ones(d)/d\n",
    "n_BS_realizations=100000\n",
    "X_unif=np.ones(n_BS_realizations)\n",
    "for realization in range(n_BS_realizations):\n",
    "    np.random.seed(42+realization)\n",
    "    r_artif=np.exp(np.random.multivariate_normal(mu,cov,N_days))\n",
    "    for t in range(N_days):\n",
    "        X_unif[realization]=X_unif[realization]*np.dot(w,r_artif[t,:])"
   ]
  },
  {
   "cell_type": "code",
   "execution_count": 91,
   "metadata": {},
   "outputs": [
    {
     "output_type": "execute_result",
     "data": {
      "text/plain": "                     Mean    Median  Std.dev.  5-th percentile  \\\nuniform weights  1.165116  1.151503  0.182563         0.890863   \n\n                 95-th percentile  \nuniform weights          1.487125  ",
      "text/html": "<div>\n<style scoped>\n    .dataframe tbody tr th:only-of-type {\n        vertical-align: middle;\n    }\n\n    .dataframe tbody tr th {\n        vertical-align: top;\n    }\n\n    .dataframe thead th {\n        text-align: right;\n    }\n</style>\n<table border=\"1\" class=\"dataframe\">\n  <thead>\n    <tr style=\"text-align: right;\">\n      <th></th>\n      <th>Mean</th>\n      <th>Median</th>\n      <th>Std.dev.</th>\n      <th>5-th percentile</th>\n      <th>95-th percentile</th>\n    </tr>\n  </thead>\n  <tbody>\n    <tr>\n      <th>uniform weights</th>\n      <td>1.165116</td>\n      <td>1.151503</td>\n      <td>0.182563</td>\n      <td>0.890863</td>\n      <td>1.487125</td>\n    </tr>\n  </tbody>\n</table>\n</div>"
     },
     "metadata": {},
     "execution_count": 91
    }
   ],
   "source": [
    "# A part of Table 5: the case of the uniform portfolio weights\n",
    "table=pd.DataFrame(index=['uniform weights'],columns=['Mean','Median','Std.dev.','5-th percentile','95-th percentile'])\n",
    "table['Mean']=np.mean(X_unif)\n",
    "table['Median']=np.median(X_unif)\n",
    "table['Std.dev.']=np.std(X_unif)\n",
    "table['5-th percentile']=np.percentile(X_unif,5)\n",
    "table['95-th percentile']=np.percentile(X_unif,95)\n",
    "table"
   ]
  },
  {
   "cell_type": "code",
   "execution_count": 102,
   "metadata": {},
   "outputs": [],
   "source": [
    "# Computaion of the array X_log of the cumulative wealths for optimal portfolios, corresponding to the logarithmic utility\n",
    "w=np.zeros(d)\n",
    "w[9]=0.177\n",
    "w[16]=0.747\n",
    "w[18]=0.076\n",
    "N_days=252\n",
    "n_BS_realizations=100000\n",
    "X_log=np.ones(n_BS_realizations)\n",
    "for realization in range(n_BS_realizations):\n",
    "    np.random.seed(42+realization)\n",
    "    r_artif=np.exp(np.random.multivariate_normal(mu,cov,N_days))\n",
    "    for t in range(N_days):\n",
    "        X_log[realization]=X_log[realization]*np.dot(w,r_artif[t,:])"
   ]
  },
  {
   "cell_type": "code",
   "execution_count": 104,
   "metadata": {},
   "outputs": [
    {
     "output_type": "execute_result",
     "data": {
      "text/plain": "                 Mean    Median  Std.dev.  5-th percentile  95-th percentile\nlog-optimal  1.240189  1.207275   0.29352         0.819941          1.772331",
      "text/html": "<div>\n<style scoped>\n    .dataframe tbody tr th:only-of-type {\n        vertical-align: middle;\n    }\n\n    .dataframe tbody tr th {\n        vertical-align: top;\n    }\n\n    .dataframe thead th {\n        text-align: right;\n    }\n</style>\n<table border=\"1\" class=\"dataframe\">\n  <thead>\n    <tr style=\"text-align: right;\">\n      <th></th>\n      <th>Mean</th>\n      <th>Median</th>\n      <th>Std.dev.</th>\n      <th>5-th percentile</th>\n      <th>95-th percentile</th>\n    </tr>\n  </thead>\n  <tbody>\n    <tr>\n      <th>log-optimal</th>\n      <td>1.240189</td>\n      <td>1.207275</td>\n      <td>0.29352</td>\n      <td>0.819941</td>\n      <td>1.772331</td>\n    </tr>\n  </tbody>\n</table>\n</div>"
     },
     "metadata": {},
     "execution_count": 104
    }
   ],
   "source": [
    "# A part of Table 5: the case of the logarithmic utility\n",
    "table=pd.DataFrame(index=['log-optimal'],columns=['Mean','Median','Std.dev.','5-th percentile','95-th percentile'])\n",
    "table['Mean']=np.mean(X_log)\n",
    "table['Median']=np.median(X_log)\n",
    "table['Std.dev.']=np.std(X_log)\n",
    "table['5-th percentile']=np.percentile(X_log,5)\n",
    "table['95-th percentile']=np.percentile(X_log,95)\n",
    "table"
   ]
  }
 ],
 "metadata": {
  "kernelspec": {
   "display_name": "Python 3",
   "language": "python",
   "name": "python3"
  },
  "language_info": {
   "codemirror_mode": {
    "name": "ipython",
    "version": 3
   },
   "file_extension": ".py",
   "mimetype": "text/x-python",
   "name": "python",
   "nbconvert_exporter": "python",
   "pygments_lexer": "ipython3",
   "version": "3.7.3-final"
  }
 },
 "nbformat": 4,
 "nbformat_minor": 2
}