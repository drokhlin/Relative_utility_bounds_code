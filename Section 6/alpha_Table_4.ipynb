{
 "cells": [
  {
   "cell_type": "code",
   "execution_count": 1,
   "metadata": {},
   "outputs": [],
   "source": [
    "\"\"\" This notebook \n",
    "(1) takes optimal portfolios for ordinary and relative power utilies from the files alpha_ordinary_opt_portf.txt and alpha_relative_opt_portf, computed by the notebooks GDSEG_alpha_ordinary.ipynb and GDSEG_alpha_relative.ipynb  \n",
    "(2) drops small weights and normalizes the remaining ones\n",
    "(3) constructs the tables containing optimal weights, total wealth, annual return and annual volatility for each porftolio (Table 4 of the paper)\n",
    "\"\"\"\n",
    "import pandas as pd\n",
    "import numpy as np\n",
    "from scipy import stats"
   ]
  },
  {
   "cell_type": "code",
   "execution_count": 2,
   "metadata": {},
   "outputs": [
    {
     "output_type": "stream",
     "name": "stdout",
     "text": "(11178, 19)\n"
    },
    {
     "output_type": "execute_result",
     "data": {
      "text/plain": "       ahp    alcoa    amerb     coke      dow   dupont     ford       ge  \\\n0  1.01515  1.02765  1.04183  1.00637  1.00847  1.01983  1.00000  1.00000   \n1  1.01493  1.04036  0.98905  1.00475  1.00840  1.00833  1.00157  1.02187   \n2  1.00000  0.97629  0.97786  0.98583  0.99722  0.99449  0.98116  0.97860   \n3  1.02451  1.00662  1.02642  1.01917  0.99443  1.00693  1.02720  1.00795   \n4  1.03100  0.98465  1.00368  1.00313  1.02801  1.00413  1.04361  1.00394   \n\n        gm       hp      ibm    inger      jnj    kimbc    merck      mmm  \\\n0  1.01026  1.01935  1.00429  1.01357  0.99683  1.05340  1.03148  1.03377   \n1  0.99746  1.01266  0.99573  1.00446  1.00318  1.00461  1.00898  1.00251   \n2  0.98219  0.98125  0.98571  0.99556  0.95873  0.98165  0.98043  0.95990   \n3  0.98705  1.00637  1.01522  1.00000  1.01325  0.98131  1.01089  1.03655   \n4  1.00525  1.03165  1.02427  1.01563  1.00654  1.02381  1.01077  0.99496   \n\n    morris    pandg   schlum  \n0  1.01495  1.00775  1.01176  \n1  1.00000  1.00192  1.01938  \n2  0.97218  0.98656  0.97338  \n3  0.99663  1.00778  1.00000  \n4  0.98649  1.01158  1.01563  ",
      "text/html": "<div>\n<style scoped>\n    .dataframe tbody tr th:only-of-type {\n        vertical-align: middle;\n    }\n\n    .dataframe tbody tr th {\n        vertical-align: top;\n    }\n\n    .dataframe thead th {\n        text-align: right;\n    }\n</style>\n<table border=\"1\" class=\"dataframe\">\n  <thead>\n    <tr style=\"text-align: right;\">\n      <th></th>\n      <th>ahp</th>\n      <th>alcoa</th>\n      <th>amerb</th>\n      <th>coke</th>\n      <th>dow</th>\n      <th>dupont</th>\n      <th>ford</th>\n      <th>ge</th>\n      <th>gm</th>\n      <th>hp</th>\n      <th>ibm</th>\n      <th>inger</th>\n      <th>jnj</th>\n      <th>kimbc</th>\n      <th>merck</th>\n      <th>mmm</th>\n      <th>morris</th>\n      <th>pandg</th>\n      <th>schlum</th>\n    </tr>\n  </thead>\n  <tbody>\n    <tr>\n      <th>0</th>\n      <td>1.01515</td>\n      <td>1.02765</td>\n      <td>1.04183</td>\n      <td>1.00637</td>\n      <td>1.00847</td>\n      <td>1.01983</td>\n      <td>1.00000</td>\n      <td>1.00000</td>\n      <td>1.01026</td>\n      <td>1.01935</td>\n      <td>1.00429</td>\n      <td>1.01357</td>\n      <td>0.99683</td>\n      <td>1.05340</td>\n      <td>1.03148</td>\n      <td>1.03377</td>\n      <td>1.01495</td>\n      <td>1.00775</td>\n      <td>1.01176</td>\n    </tr>\n    <tr>\n      <th>1</th>\n      <td>1.01493</td>\n      <td>1.04036</td>\n      <td>0.98905</td>\n      <td>1.00475</td>\n      <td>1.00840</td>\n      <td>1.00833</td>\n      <td>1.00157</td>\n      <td>1.02187</td>\n      <td>0.99746</td>\n      <td>1.01266</td>\n      <td>0.99573</td>\n      <td>1.00446</td>\n      <td>1.00318</td>\n      <td>1.00461</td>\n      <td>1.00898</td>\n      <td>1.00251</td>\n      <td>1.00000</td>\n      <td>1.00192</td>\n      <td>1.01938</td>\n    </tr>\n    <tr>\n      <th>2</th>\n      <td>1.00000</td>\n      <td>0.97629</td>\n      <td>0.97786</td>\n      <td>0.98583</td>\n      <td>0.99722</td>\n      <td>0.99449</td>\n      <td>0.98116</td>\n      <td>0.97860</td>\n      <td>0.98219</td>\n      <td>0.98125</td>\n      <td>0.98571</td>\n      <td>0.99556</td>\n      <td>0.95873</td>\n      <td>0.98165</td>\n      <td>0.98043</td>\n      <td>0.95990</td>\n      <td>0.97218</td>\n      <td>0.98656</td>\n      <td>0.97338</td>\n    </tr>\n    <tr>\n      <th>3</th>\n      <td>1.02451</td>\n      <td>1.00662</td>\n      <td>1.02642</td>\n      <td>1.01917</td>\n      <td>0.99443</td>\n      <td>1.00693</td>\n      <td>1.02720</td>\n      <td>1.00795</td>\n      <td>0.98705</td>\n      <td>1.00637</td>\n      <td>1.01522</td>\n      <td>1.00000</td>\n      <td>1.01325</td>\n      <td>0.98131</td>\n      <td>1.01089</td>\n      <td>1.03655</td>\n      <td>0.99663</td>\n      <td>1.00778</td>\n      <td>1.00000</td>\n    </tr>\n    <tr>\n      <th>4</th>\n      <td>1.03100</td>\n      <td>0.98465</td>\n      <td>1.00368</td>\n      <td>1.00313</td>\n      <td>1.02801</td>\n      <td>1.00413</td>\n      <td>1.04361</td>\n      <td>1.00394</td>\n      <td>1.00525</td>\n      <td>1.03165</td>\n      <td>1.02427</td>\n      <td>1.01563</td>\n      <td>1.00654</td>\n      <td>1.02381</td>\n      <td>1.01077</td>\n      <td>0.99496</td>\n      <td>0.98649</td>\n      <td>1.01158</td>\n      <td>1.01563</td>\n    </tr>\n  </tbody>\n</table>\n</div>"
     },
     "metadata": {},
     "execution_count": 2
    }
   ],
   "source": [
    "# Importing NYSE_2 dataset\n",
    "stocks=pd.read_csv('NYSE_2.csv')\n",
    "print(stocks.shape)\n",
    "stocks.head()"
   ]
  },
  {
   "cell_type": "code",
   "execution_count": 3,
   "metadata": {},
   "outputs": [],
   "source": [
    "# r: array for stock returns\n",
    "N=stocks.shape[0]\n",
    "d=stocks.shape[1]\n",
    "r=np.zeros((N,d))\n",
    "r=stocks.to_numpy()"
   ]
  },
  {
   "cell_type": "code",
   "execution_count": 4,
   "metadata": {},
   "outputs": [],
   "source": [
    "def refine(w,tol=1/10**3):\n",
    "    \"\"\" Drops small weights and normalizes the remaining ones \"\"\"\n",
    "    d=w.shape[0]\n",
    "    opt_num=[i for i in range(d) if w[i]>tol]\n",
    "    w=w[opt_num]/np.sum(w[opt_num])    \n",
    "    return opt_num, w"
   ]
  },
  {
   "cell_type": "code",
   "execution_count": 5,
   "metadata": {},
   "outputs": [],
   "source": [
    "alphas=[0.01,0.1,0.2,0.3,0.5,0.75]"
   ]
  },
  {
   "cell_type": "code",
   "execution_count": 6,
   "metadata": {
    "tags": [
     "outputPrepend"
    ]
   },
   "outputs": [],
   "source": [
    "# Take optimal portfolio weights from the file alpha_ordinary_opt_portf.txt\n",
    "f=open('alpha_ordinary_opt_portf.txt','r')\n",
    "n_alphas=sum(1 for line in f)\n",
    "f.close()\n",
    "opt_portf=np.zeros((n_alphas,d))\n",
    "f=open('alpha_ordinary_opt_portf.txt','r')\n",
    "s=-1\n",
    "for line in f:\n",
    "    s+=1\n",
    "    opt_portf[s,:]=[float(x) for x in line.split()]\n",
    "f.close()"
   ]
  },
  {
   "cell_type": "code",
   "execution_count": 7,
   "metadata": {},
   "outputs": [],
   "source": [
    "# wd: dictionary, containing optimal weights after dropping the small weights\n",
    "# opt_num_d: dictionary, containing the numbers of stocks with large weights\n",
    "# X[s]: total wealth of the optimal portolio, corrsponding to s-th element of the list alphas=[0.01,0.1,0.2,0.3,0.5,0.75]\n",
    "wd={}\n",
    "opt_num_d={}\n",
    "# X: wealth\n",
    "X=np.ones(n_alphas)\n",
    "# Y: annual volatility of log-returns\n",
    "Y=np.zeros(n_alphas)\n",
    "z=[]\n",
    "for s in range(n_alphas):\n",
    "    opt_num, w = refine(opt_portf[s,:])  \n",
    "    opt_num_d[s]=opt_num\n",
    "    wd[s]=w\n",
    "    for t in range(N):\n",
    "        X[s]=X[s]*np.dot(w,r[t,opt_num])\n",
    "        #z.append(np.log(np.dot(w,r[t,opt_num])))\n",
    "        z.append(np.dot(w,r[t,opt_num]))\n",
    "    Y[s]=np.std(z)*np.sqrt(252)\n",
    "    z=[]"
   ]
  },
  {
   "cell_type": "code",
   "execution_count": 8,
   "metadata": {},
   "outputs": [
    {
     "output_type": "stream",
     "name": "stdout",
     "text": "[[('hp', 0.17923866465715677), ('morris', 0.7518121129878252), ('schlum', 0.0689492223550179)], [('hp', 0.17617289682388979), ('morris', 0.7765649892426821), ('schlum', 0.04726211393342805)], [('hp', 0.17794447925092566), ('morris', 0.8220555207490744)], [('hp', 0.1589207096440556), ('morris', 0.8410792903559444)], [('hp', 0.09719686836055239), ('morris', 0.9028031316394476)], [('morris', 1.0)]]\n"
    }
   ],
   "source": [
    "# Forming the list of tuples (stock name, optimal portfolio) for each alpha\n",
    "list_portf=[]\n",
    "s=-1\n",
    "tps=[]\n",
    "for alpha in alphas:\n",
    "    s+=1\n",
    "    for z1, z2 in zip(stocks.columns[opt_num_d[s]],wd[s]):\n",
    "        tps.append((z1,z2))    \n",
    "    list_portf.append(tps)\n",
    "    tps=[]\n",
    "print(list_portf)"
   ]
  },
  {
   "cell_type": "code",
   "execution_count": 9,
   "metadata": {},
   "outputs": [
    {
     "output_type": "execute_result",
     "data": {
      "text/plain": "                       weight_1                      weight_2  \\\n0.01  (hp, 0.17923866465715677)  (morris, 0.7518121129878252)   \n0.10  (hp, 0.17617289682388979)  (morris, 0.7765649892426821)   \n0.20  (hp, 0.17794447925092566)  (morris, 0.8220555207490744)   \n0.30   (hp, 0.1589207096440556)  (morris, 0.8410792903559444)   \n0.50  (hp, 0.09719686836055239)  (morris, 0.9028031316394476)   \n0.75              (morris, 1.0)                          None   \n\n                           weight_3       Wealth  Annual return  \\\n0.01   (schlum, 0.0689492223550179)  4100.404059       1.206281   \n0.10  (schlum, 0.04726211393342805)  4091.184548       1.206220   \n0.20                           None  4035.731299       1.205849   \n0.30                           None  4016.056743       1.205716   \n0.50                           None  3885.447626       1.204818   \n0.75                           None  3496.681830       1.201958   \n\n      Annual volatility  \n0.01           0.233911  \n0.10           0.237427  \n0.20           0.245141  \n0.30           0.246878  \n0.50           0.253959  \n0.75           0.269216  ",
      "text/html": "<div>\n<style scoped>\n    .dataframe tbody tr th:only-of-type {\n        vertical-align: middle;\n    }\n\n    .dataframe tbody tr th {\n        vertical-align: top;\n    }\n\n    .dataframe thead th {\n        text-align: right;\n    }\n</style>\n<table border=\"1\" class=\"dataframe\">\n  <thead>\n    <tr style=\"text-align: right;\">\n      <th></th>\n      <th>weight_1</th>\n      <th>weight_2</th>\n      <th>weight_3</th>\n      <th>Wealth</th>\n      <th>Annual return</th>\n      <th>Annual volatility</th>\n    </tr>\n  </thead>\n  <tbody>\n    <tr>\n      <th>0.01</th>\n      <td>(hp, 0.17923866465715677)</td>\n      <td>(morris, 0.7518121129878252)</td>\n      <td>(schlum, 0.0689492223550179)</td>\n      <td>4100.404059</td>\n      <td>1.206281</td>\n      <td>0.233911</td>\n    </tr>\n    <tr>\n      <th>0.10</th>\n      <td>(hp, 0.17617289682388979)</td>\n      <td>(morris, 0.7765649892426821)</td>\n      <td>(schlum, 0.04726211393342805)</td>\n      <td>4091.184548</td>\n      <td>1.206220</td>\n      <td>0.237427</td>\n    </tr>\n    <tr>\n      <th>0.20</th>\n      <td>(hp, 0.17794447925092566)</td>\n      <td>(morris, 0.8220555207490744)</td>\n      <td>None</td>\n      <td>4035.731299</td>\n      <td>1.205849</td>\n      <td>0.245141</td>\n    </tr>\n    <tr>\n      <th>0.30</th>\n      <td>(hp, 0.1589207096440556)</td>\n      <td>(morris, 0.8410792903559444)</td>\n      <td>None</td>\n      <td>4016.056743</td>\n      <td>1.205716</td>\n      <td>0.246878</td>\n    </tr>\n    <tr>\n      <th>0.50</th>\n      <td>(hp, 0.09719686836055239)</td>\n      <td>(morris, 0.9028031316394476)</td>\n      <td>None</td>\n      <td>3885.447626</td>\n      <td>1.204818</td>\n      <td>0.253959</td>\n    </tr>\n    <tr>\n      <th>0.75</th>\n      <td>(morris, 1.0)</td>\n      <td>None</td>\n      <td>None</td>\n      <td>3496.681830</td>\n      <td>1.201958</td>\n      <td>0.269216</td>\n    </tr>\n  </tbody>\n</table>\n</div>"
     },
     "metadata": {},
     "execution_count": 9
    }
   ],
   "source": [
    "# table contains optimal weights, total wealth, annual return and annual volatility for each optimal portolio in the case of the ordinary power utility\n",
    "# It is the first part of Table 4 of the paper\n",
    "table_0=pd.DataFrame(index=alphas,data=list_portf,columns=['weight_1','weight_2','weight_3'])\n",
    "table_1=pd.DataFrame(index=alphas,data=[X[s] for s in range(n_alphas)],columns=['Wealth'])\n",
    "table_2=pd.DataFrame(index=alphas,data=[X[s]**(252/N) for s in range(n_alphas)],columns=['Annual return'])\n",
    "table_3=pd.DataFrame(index=alphas,data=Y,columns=['Annual volatility'])\n",
    "table=pd.concat([table_0,table_1,table_2,table_3],axis=1)\n",
    "table"
   ]
  },
  {
   "cell_type": "code",
   "execution_count": 10,
   "metadata": {},
   "outputs": [],
   "source": [
    "# Take optimal portfolio weights from the file alpha_relative_opt_portf.txt\n",
    "f=open('alpha_relative_opt_portf.txt','r')\n",
    "n_alphas=sum(1 for line in f)\n",
    "f.close()\n",
    "opt_portf=np.zeros((n_alphas,d))\n",
    "f=open('alpha_relative_opt_portf.txt','r')\n",
    "s=-1\n",
    "for line in f:\n",
    "    s+=1\n",
    "    opt_portf[s,:]=[float(x) for x in line.split()]\n",
    "f.close()"
   ]
  },
  {
   "cell_type": "code",
   "execution_count": 11,
   "metadata": {},
   "outputs": [],
   "source": [
    "# wd: dictionary, containing optimal weights after after dropping the small weights\n",
    "# opt_num_d: dictionary, containing the numbers of stocks with large weights\n",
    "# X[s]: total wealth of the optimal portolio with number s\n",
    "wd={}\n",
    "opt_num_d={}\n",
    "X=np.ones(n_alphas)\n",
    "z=[]\n",
    "for s in range(n_alphas):\n",
    "    opt_num, w = refine(opt_portf[s,:])  \n",
    "    opt_num_d[s]=opt_num\n",
    "    wd[s]=w\n",
    "    for t in range(N):\n",
    "        X[s]=X[s]*np.dot(w,r[t,opt_num])\n",
    "        z.append(np.log(np.dot(w,r[t,opt_num])))\n",
    "    Y[s]=np.std(z)*np.sqrt(252)\n",
    "    z=[]"
   ]
  },
  {
   "cell_type": "code",
   "execution_count": 12,
   "metadata": {},
   "outputs": [
    {
     "output_type": "stream",
     "name": "stdout",
     "text": "[[('hp', 0.1782212816819049), ('morris', 0.7522943759264317), ('schlum', 0.0694843423916635)], [('hp', 0.16169496625739518), ('morris', 0.7881755067050366), ('schlum', 0.050129527037568185)], [('hp', 0.14762887053138254), ('morris', 0.8523711294686174)], [('hp', 0.10690907362543285), ('morris', 0.8930909263745671)], [('morris', 1.0)], [('morris', 1.0)]]\n"
    }
   ],
   "source": [
    "# Forming the list of tuples (stock name, optimal portfolio) for each alpha\n",
    "list_portf=[]\n",
    "s=-1\n",
    "tps=[]\n",
    "for alpha in alphas:\n",
    "    s+=1\n",
    "    for z1, z2 in zip(stocks.columns[opt_num_d[s]],wd[s]):\n",
    "        tps.append((z1,z2))    \n",
    "    list_portf.append(tps)\n",
    "    tps=[]\n",
    "print(list_portf)"
   ]
  },
  {
   "cell_type": "code",
   "execution_count": 13,
   "metadata": {},
   "outputs": [
    {
     "output_type": "execute_result",
     "data": {
      "text/plain": "                       weight_1                      weight_2  \\\n0.01   (hp, 0.1782212816819049)  (morris, 0.7522943759264317)   \n0.10  (hp, 0.16169496625739518)  (morris, 0.7881755067050366)   \n0.20  (hp, 0.14762887053138254)  (morris, 0.8523711294686174)   \n0.30  (hp, 0.10690907362543285)  (morris, 0.8930909263745671)   \n0.50              (morris, 1.0)                          None   \n0.75              (morris, 1.0)                          None   \n\n                            weight_3       Wealth  Annual return  \\\n0.01    (schlum, 0.0694843423916635)  4100.444982       1.206282   \n0.10  (schlum, 0.050129527037568185)  4085.655992       1.206183   \n0.20                            None  3999.695314       1.205605   \n0.30                            None  3912.532403       1.205007   \n0.50                            None  3496.681830       1.201958   \n0.75                            None  3496.681830       1.201958   \n\n      Annual volatility  \n0.01           0.234094  \n0.10           0.238369  \n0.20           0.248230  \n0.30           0.252969  \n0.50           0.269624  \n0.75           0.269624  ",
      "text/html": "<div>\n<style scoped>\n    .dataframe tbody tr th:only-of-type {\n        vertical-align: middle;\n    }\n\n    .dataframe tbody tr th {\n        vertical-align: top;\n    }\n\n    .dataframe thead th {\n        text-align: right;\n    }\n</style>\n<table border=\"1\" class=\"dataframe\">\n  <thead>\n    <tr style=\"text-align: right;\">\n      <th></th>\n      <th>weight_1</th>\n      <th>weight_2</th>\n      <th>weight_3</th>\n      <th>Wealth</th>\n      <th>Annual return</th>\n      <th>Annual volatility</th>\n    </tr>\n  </thead>\n  <tbody>\n    <tr>\n      <th>0.01</th>\n      <td>(hp, 0.1782212816819049)</td>\n      <td>(morris, 0.7522943759264317)</td>\n      <td>(schlum, 0.0694843423916635)</td>\n      <td>4100.444982</td>\n      <td>1.206282</td>\n      <td>0.234094</td>\n    </tr>\n    <tr>\n      <th>0.10</th>\n      <td>(hp, 0.16169496625739518)</td>\n      <td>(morris, 0.7881755067050366)</td>\n      <td>(schlum, 0.050129527037568185)</td>\n      <td>4085.655992</td>\n      <td>1.206183</td>\n      <td>0.238369</td>\n    </tr>\n    <tr>\n      <th>0.20</th>\n      <td>(hp, 0.14762887053138254)</td>\n      <td>(morris, 0.8523711294686174)</td>\n      <td>None</td>\n      <td>3999.695314</td>\n      <td>1.205605</td>\n      <td>0.248230</td>\n    </tr>\n    <tr>\n      <th>0.30</th>\n      <td>(hp, 0.10690907362543285)</td>\n      <td>(morris, 0.8930909263745671)</td>\n      <td>None</td>\n      <td>3912.532403</td>\n      <td>1.205007</td>\n      <td>0.252969</td>\n    </tr>\n    <tr>\n      <th>0.50</th>\n      <td>(morris, 1.0)</td>\n      <td>None</td>\n      <td>None</td>\n      <td>3496.681830</td>\n      <td>1.201958</td>\n      <td>0.269624</td>\n    </tr>\n    <tr>\n      <th>0.75</th>\n      <td>(morris, 1.0)</td>\n      <td>None</td>\n      <td>None</td>\n      <td>3496.681830</td>\n      <td>1.201958</td>\n      <td>0.269624</td>\n    </tr>\n  </tbody>\n</table>\n</div>"
     },
     "metadata": {},
     "execution_count": 13
    }
   ],
   "source": [
    "# table contains optimal weights, total wealth, annual return and annual volatility for each optimal portolio in the case of relative power utility\n",
    "# It is the second part of Table 4 of the paper\n",
    "table_0=pd.DataFrame(index=alphas,data=list_portf,columns=['weight_1','weight_2','weight_3'])\n",
    "table_1=pd.DataFrame(index=alphas,data=[X[s] for s in range(n_alphas)],columns=['Wealth'])\n",
    "table_2=pd.DataFrame(index=alphas,data=[X[s]**(252/N) for s in range(n_alphas)],columns=['Annual return'])\n",
    "table_3=pd.DataFrame(index=alphas,data=Y,columns=['Annual volatility'])\n",
    "table=pd.concat([table_0,table_1,table_2,table_3],axis=1)\n",
    "table"
   ]
  }
 ],
 "metadata": {
  "kernelspec": {
   "display_name": "Python 3",
   "language": "python",
   "name": "python3"
  },
  "language_info": {
   "codemirror_mode": {
    "name": "ipython",
    "version": 3
   },
   "file_extension": ".py",
   "mimetype": "text/x-python",
   "name": "python",
   "nbconvert_exporter": "python",
   "pygments_lexer": "ipython3",
   "version": "3.7.3-final"
  }
 },
 "nbformat": 4,
 "nbformat_minor": 2
}