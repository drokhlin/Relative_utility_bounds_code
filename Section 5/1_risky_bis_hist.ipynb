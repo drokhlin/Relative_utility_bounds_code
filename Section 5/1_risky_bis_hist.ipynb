{
 "cells": [
  {
   "cell_type": "code",
   "execution_count": 1,
   "metadata": {},
   "outputs": [],
   "source": [
    "\"\"\" For alpha=0.2 and n_experiments=200 realizations of daily returns of the risky asset this notebook \n",
    "(1) computes optimal portfolios, usiong the bisection method\n",
    "(2) evaluates true utilities of these portfolios, usinng a large sample \n",
    "(3) computes histograms in Fig.1-3 of the paper\n",
    "\"\"\"\n",
    "import numpy as np\n",
    "from scipy  import optimize"
   ]
  },
  {
   "cell_type": "code",
   "execution_count": 2,
   "metadata": {},
   "outputs": [],
   "source": [
    "# nu is the weignt of the risky asset\n",
    "def gb(nu,r):\n",
    "    \"\"\" The derivative of the relative power utility \"\"\"\n",
    "    z1=1+nu*(r-1)\n",
    "    z2=np.fmax(r,1)\n",
    "    return np.mean((z1/z2)**(alpha-1)*(r-1)/z2)"
   ]
  },
  {
   "cell_type": "code",
   "execution_count": 3,
   "metadata": {},
   "outputs": [
    {
     "output_type": "stream",
     "name": "stdout",
     "text": "0.15 0.45\n1.161834242728283\n0.0001934523809523809 0.028347335475692043\n"
    }
   ],
   "source": [
    "import random\n",
    "# N is the sample length\n",
    "n0=252*10\n",
    "n1=252*10**2\n",
    "n2=252*10**3\n",
    "# r: returns of the risky asset\n",
    "r0=np.ones(n0)\n",
    "r1=np.ones(n1)\n",
    "r2=np.ones(n2)\n",
    "# Parameters of the discrete Black-Scholes model\n",
    "mu=0.15\n",
    "sigma=0.45\n",
    "print(mu,sigma)\n",
    "print(np.exp(mu))\n",
    "print((mu-sigma**2/2)/252,sigma/np.sqrt(252))"
   ]
  },
  {
   "cell_type": "code",
   "execution_count": 4,
   "metadata": {},
   "outputs": [],
   "source": [
    "# n_experiments is the number of realizations\n",
    "n_experiments=200\n",
    "# w_bis, wb_bis are the arrays for the optimal weights for the ordinary and relative power utilities\n",
    "wb_bis_0=np.zeros(n_experiments)\n",
    "wb_bis_1=np.zeros(n_experiments)\n",
    "wb_bis_2=np.zeros(n_experiments)"
   ]
  },
  {
   "cell_type": "code",
   "execution_count": 5,
   "metadata": {},
   "outputs": [
    {
     "output_type": "stream",
     "name": "stdout",
     "text": "0\n1\n2\n3\n4\n5\n6\n7\n8\n9\n10\n11\n12\n13\n14\n15\n16\n17\n18\n19\n20\n21\n22\n23\n24\n25\n26\n27\n28\n29\n30\n31\n32\n33\n34\n35\n36\n37\n38\n39\n40\n41\n42\n43\n44\n45\n46\n47\n48\n49\n50\n51\n52\n53\n54\n55\n56\n57\n58\n59\n60\n61\n62\n63\n64\n65\n66\n67\n68\n69\n70\n71\n72\n73\n74\n75\n76\n77\n78\n79\n80\n81\n82\n83\n84\n85\n86\n87\n88\n89\n90\n91\n92\n93\n94\n95\n96\n97\n98\n99\n100\n101\n102\n103\n104\n105\n106\n107\n108\n109\n110\n111\n112\n113\n114\n115\n116\n117\n118\n119\n120\n121\n122\n123\n124\n125\n126\n127\n128\n129\n130\n131\n132\n133\n134\n135\n136\n137\n138\n139\n140\n141\n142\n143\n144\n145\n146\n147\n148\n149\n150\n151\n152\n153\n154\n155\n156\n157\n158\n159\n160\n161\n162\n163\n164\n165\n166\n167\n168\n169\n170\n171\n172\n173\n174\n175\n176\n177\n178\n179\n180\n181\n182\n183\n184\n185\n186\n187\n188\n189\n190\n191\n192\n193\n194\n195\n196\n197\n198\n199\n0\n1\n2\n3\n4\n5\n6\n7\n8\n9\n10\n11\n12\n13\n14\n15\n16\n17\n18\n19\n20\n21\n22\n23\n24\n25\n26\n27\n28\n29\n30\n31\n32\n33\n34\n35\n36\n37\n38\n39\n40\n41\n42\n43\n44\n45\n46\n47\n48\n49\n50\n51\n52\n53\n54\n55\n56\n57\n58\n59\n60\n61\n62\n63\n64\n65\n66\n67\n68\n69\n70\n71\n72\n73\n74\n75\n76\n77\n78\n79\n80\n81\n82\n83\n84\n85\n86\n87\n88\n89\n90\n91\n92\n93\n94\n95\n96\n97\n98\n99\n100\n101\n102\n103\n104\n105\n106\n107\n108\n109\n110\n111\n112\n113\n114\n115\n116\n117\n118\n119\n120\n121\n122\n123\n124\n125\n126\n127\n128\n129\n130\n131\n132\n133\n134\n135\n136\n137\n138\n139\n140\n141\n142\n143\n144\n145\n146\n147\n148\n149\n150\n151\n152\n153\n154\n155\n156\n157\n158\n159\n160\n161\n162\n163\n164\n165\n166\n167\n168\n169\n170\n171\n172\n173\n174\n175\n176\n177\n178\n179\n180\n181\n182\n183\n184\n185\n186\n187\n188\n189\n190\n191\n192\n193\n194\n195\n196\n197\n198\n199\n0\n1\n2\n3\n4\n5\n6\n7\n8\n9\n10\n11\n12\n13\n14\n15\n16\n17\n18\n19\n20\n21\n22\n23\n24\n25\n26\n27\n28\n29\n30\n31\n32\n33\n34\n35\n36\n37\n38\n39\n40\n41\n42\n43\n44\n45\n46\n47\n48\n49\n50\n51\n52\n53\n54\n55\n56\n57\n58\n59\n60\n61\n62\n63\n64\n65\n66\n67\n68\n69\n70\n71\n72\n73\n74\n75\n76\n77\n78\n79\n80\n81\n82\n83\n84\n85\n86\n87\n88\n89\n90\n91\n92\n93\n94\n95\n96\n97\n98\n99\n100\n101\n102\n103\n104\n105\n106\n107\n108\n109\n110\n111\n112\n113\n114\n115\n116\n117\n118\n119\n120\n121\n122\n123\n124\n125\n126\n127\n128\n129\n130\n131\n132\n133\n134\n135\n136\n137\n138\n139\n140\n141\n142\n143\n144\n145\n146\n147\n148\n149\n150\n151\n152\n153\n154\n155\n156\n157\n158\n159\n160\n161\n162\n163\n164\n165\n166\n167\n168\n169\n170\n171\n172\n173\n174\n175\n176\n177\n178\n179\n180\n181\n182\n183\n184\n185\n186\n187\n188\n189\n190\n191\n192\n193\n194\n195\n196\n197\n198\n199\n"
    }
   ],
   "source": [
    "w_al=[]\n",
    "wb_al=[]\n",
    "alpha=0.2\n",
    "for s in range(n_experiments):\n",
    "    np.random.seed(42+s) \n",
    "    # returns of the risky asset\n",
    "    r0=np.random.lognormal(mean=(mu-sigma**2/2)/252, sigma=sigma/np.sqrt(252), size=n0) \n",
    "    # The bisection method optimize.bisect for the derivatives of the empirical utilities with initial sign check\n",
    "    if gb(0,r0)<=0 and gb(1,r0)<=0:\n",
    "        root_0=0\n",
    "    elif gb(0,r0)>=0 and gb(1,r0)>=0:\n",
    "        root_0=1\n",
    "    else: \n",
    "        root_0=optimize.bisect(gb,0,1,args=(r0)) \n",
    "    wb_bis_0[s]=root_0\n",
    "    print(s)\n",
    "for s in range(n_experiments):\n",
    "    np.random.seed(42+s) \n",
    "    # returns of the risky asset\n",
    "    r1=np.random.lognormal(mean=(mu-sigma**2/2)/252, sigma=sigma/np.sqrt(252), size=n1) \n",
    "    # The bisection method optimize.bisect for the derivatives of the empirical utilities with initial sign check\n",
    "    if gb(0,r1)<=0 and gb(1,r1)<=0:\n",
    "        root_1=0\n",
    "    elif gb(0,r1)>=0 and gb(1,r1)>=0:\n",
    "        root_1=1\n",
    "    else: \n",
    "        root_1=optimize.bisect(gb,0,1,args=(r1)) \n",
    "    wb_bis_1[s]=root_1\n",
    "    print(s)\n",
    "for s in range(n_experiments):\n",
    "    np.random.seed(42+s) \n",
    "    # returns of the risky asset\n",
    "    r2=np.random.lognormal(mean=(mu-sigma**2/2)/252, sigma=sigma/np.sqrt(252), size=n2) \n",
    "    # The bisection method optimize.bisect for the derivatives of the empirical utilities with initial sign check\n",
    "    if gb(0,r2)<=0 and gb(1,r2)<=0:\n",
    "        root_1=0\n",
    "    elif gb(0,r1)>=0 and gb(1,r2)>=0:\n",
    "        root_2=1\n",
    "    else: \n",
    "        root_2=optimize.bisect(gb,0,1,args=(r2)) \n",
    "    wb_bis_2[s]=root_2\n",
    "    print(s)"
   ]
  },
  {
   "cell_type": "code",
   "execution_count": 6,
   "metadata": {},
   "outputs": [],
   "source": [
    "def U_gr(nu,r):\n",
    "    \"\"\" Power utility minus its value at zero\n",
    "    \"\"\"\n",
    "    # r: the array of the risky asset returns\n",
    "    z=((1+nu*(r-1))/np.fmax(r,1))**alpha-(1/np.fmax(r,1))**alpha\n",
    "    return np.mean(z)"
   ]
  },
  {
   "cell_type": "code",
   "execution_count": 7,
   "metadata": {},
   "outputs": [
    {
     "output_type": "stream",
     "name": "stdout",
     "text": "0\n1\n2\n3\n4\n5\n6\n7\n8\n9\n10\n11\n12\n13\n14\n15\n16\n17\n18\n19\n20\n21\n22\n23\n24\n25\n26\n27\n28\n29\n30\n31\n32\n33\n34\n35\n36\n37\n38\n39\n40\n41\n42\n43\n44\n45\n46\n47\n48\n49\n50\n51\n52\n53\n54\n55\n56\n57\n58\n59\n60\n61\n62\n63\n64\n65\n66\n67\n68\n69\n70\n71\n72\n73\n74\n75\n76\n77\n78\n79\n80\n81\n82\n83\n84\n85\n86\n87\n88\n89\n90\n91\n92\n93\n94\n95\n96\n97\n98\n99\n100\n101\n102\n103\n104\n105\n106\n107\n108\n109\n110\n111\n112\n113\n114\n115\n116\n117\n118\n119\n120\n121\n122\n123\n124\n125\n126\n127\n128\n129\n130\n131\n132\n133\n134\n135\n136\n137\n138\n139\n140\n141\n142\n143\n144\n145\n146\n147\n148\n149\n150\n151\n152\n153\n154\n155\n156\n157\n158\n159\n160\n161\n162\n163\n164\n165\n166\n167\n168\n169\n170\n171\n172\n173\n174\n175\n176\n177\n178\n179\n180\n181\n182\n183\n184\n185\n186\n187\n188\n189\n190\n191\n192\n193\n194\n195\n196\n197\n198\n199\n"
    }
   ],
   "source": [
    "# A very large sample for the evaluation of the true utility\n",
    "U_opt_0=np.zeros(n_experiments)\n",
    "U_opt_1=np.zeros(n_experiments)\n",
    "U_opt_2=np.zeros(n_experiments)\n",
    "N=10**7\n",
    "np.random.seed(1000) \n",
    "r=np.random.lognormal(mean=(mu-sigma**2/2)/252, sigma=sigma/np.sqrt(252), size=N)\n",
    "# Evaluation of true utilities of optimal portfolio weights\n",
    "for i in range(n_experiments):\n",
    "    U_opt_0[i]=U_gr(wb_bis_0[i],r)*10**4\n",
    "    U_opt_1[i]=U_gr(wb_bis_1[i],r)*10**4\n",
    "    U_opt_2[i]=U_gr(wb_bis_2[i],r)*10**4\n",
    "    print(i)"
   ]
  },
  {
   "cell_type": "code",
   "execution_count": 8,
   "metadata": {},
   "outputs": [],
   "source": [
    "import matplotlib.pyplot as plt\n",
    "# Histograms of the true utilities for 3 variants of price histories\n",
    "fig, axes = plt.subplots(3, 2, figsize=(8,8))\n",
    "fig.subplots_adjust(hspace=0.5, wspace=0.2)\n",
    "axes[0,0].hist(wb_bis_0,bins=14,histtype='step',hatch='//') \n",
    "axes[0,0].set_title(r'$n=252\\cdot 10$')\n",
    "axes[0,1].hist(U_opt_0,bins=14,histtype='step',hatch='//') \n",
    "axes[0,1].set_title(r'$n=252\\cdot 10$')\n",
    "axes[1,0].hist(wb_bis_1,bins=14,histtype='step',hatch='//')\n",
    "axes[1,0].set_title(r'$n=252\\cdot 10^2$')\n",
    "axes[1,1].hist(U_opt_1,bins=14,histtype='step',hatch='//') \n",
    "axes[1,1].set_title(r'$n=252\\cdot 10^2$')\n",
    "axes[2,0].hist(wb_bis_2,bins=14,histtype='step',hatch='//')\n",
    "axes[2,0].set_title(r'$n=252\\cdot 10^3$')\n",
    "axes[2,0].set_xlabel(r'$\\nu_n^{(2)}$')\n",
    "axes[2,1].hist(U_opt_2,bins=14,histtype='step',hatch='//') \n",
    "axes[2,1].set_title(r'$n=252\\cdot 10^3$')\n",
    "axes[2,1].set_xlabel(r'$(U(1-\\widehat\\nu_n^{(2)},\\widehat\\nu_n^{(2)})-U(w_0))\\cdot 10^4$')\n",
    "fig.savefig('one_risky_hist.eps', dpi=400, bbox_inches='tight')\n",
    "fig.savefig('one_risky_hist.png', dpi=400, bbox_inches='tight')"
   ]
  },
  {
   "cell_type": "code",
   "execution_count": null,
   "metadata": {},
   "outputs": [],
   "source": []
  }
 ],
 "metadata": {
  "kernelspec": {
   "display_name": "Python 3",
   "language": "python",
   "name": "python3"
  },
  "language_info": {
   "codemirror_mode": {
    "name": "ipython",
    "version": 3
   },
   "file_extension": ".py",
   "mimetype": "text/x-python",
   "name": "python",
   "nbconvert_exporter": "python",
   "pygments_lexer": "ipython3",
   "version": "3.7.3-final"
  }
 },
 "nbformat": 4,
 "nbformat_minor": 2
}