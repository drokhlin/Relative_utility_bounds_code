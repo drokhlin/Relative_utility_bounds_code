{
 "cells": [
  {
   "cell_type": "code",
   "execution_count": 8,
   "metadata": {},
   "outputs": [],
   "source": [
    "\"\"\" Bisection method for the power utility u(x)=x**alpha in the case of 1 risky asset. \n",
    "(1) computes Table 1\n",
    "(2) computes the optimal weight of the risky asset and its true utility, using large sample\n",
    "\"\"\"\n",
    "\n",
    "import numpy as np\n",
    "from scipy  import optimize"
   ]
  },
  {
   "cell_type": "code",
   "execution_count": 9,
   "metadata": {},
   "outputs": [],
   "source": [
    "# nu is the weignt of the risky asset\n",
    "def g(nu,r):\n",
    "    \"\"\" The derivative of the ordinary power utility \"\"\"\n",
    "    z=1+nu*(r-1)\n",
    "    return np.mean(z**(alpha-1)*(r-1))\n",
    "def gb(nu,r):\n",
    "    \"\"\" The derivative of the relative power utility \"\"\"\n",
    "    z1=1+nu*(r-1)\n",
    "    z2=np.fmax(r,1)\n",
    "    return np.mean((z1/z2)**(alpha-1)*(r-1)/z2)"
   ]
  },
  {
   "cell_type": "code",
   "execution_count": 10,
   "metadata": {},
   "outputs": [
    {
     "output_type": "stream",
     "name": "stdout",
     "text": "0.15 0.45\n1.161834242728283\n0.0001934523809523809 0.028347335475692043\n"
    }
   ],
   "source": [
    "import random\n",
    "# N is the sample length\n",
    "n=252*10**3\n",
    "# r: returns of the risky asset\n",
    "r=np.ones(n)\n",
    "# Parameters of the discrete Black-Scholes model\n",
    "mu=0.15\n",
    "sigma=0.45\n",
    "print(mu,sigma)\n",
    "print(np.exp(mu))\n",
    "print((mu-sigma**2/2)/252,sigma/np.sqrt(252))"
   ]
  },
  {
   "cell_type": "code",
   "execution_count": 11,
   "metadata": {},
   "outputs": [],
   "source": [
    "# n_experiments is the number of realizations\n",
    "n_experiments=100\n",
    "# w_bis, wb_bis are the arrays for the optimal weights for the ordinary and relative power utilities\n",
    "w_bis=np.zeros((n_experiments))\n",
    "wb_bis=np.zeros((n_experiments))"
   ]
  },
  {
   "cell_type": "code",
   "execution_count": 12,
   "metadata": {},
   "outputs": [],
   "source": [
    "w_al=[]\n",
    "wb_al=[]\n",
    "alphas=[0.001,0.01,0.1,0.2,0.3,0.5,0.75,0.9]\n",
    "for alpha in alphas:\n",
    "    for s in range(n_experiments):\n",
    "        np.random.seed(42+s) \n",
    "      # returns of the risky asset\n",
    "        r=np.random.lognormal(mean=(mu-sigma**2/2)/252, sigma=sigma/np.sqrt(252), size=n) \n",
    "      # The bisection method optimize.bisect for the derivatives of the empirical utilities with initial sign check\n",
    "        if g(0,r)<=0 and g(1,r)<=0:\n",
    "            root=0\n",
    "        elif g(0,r)>=0 and g(1,r)>=0:\n",
    "            root=1\n",
    "        else: \n",
    "            root=optimize.bisect(g,0,1,args=(r)) \n",
    "        w_bis[s]=root\n",
    "        if gb(0,r)<=0 and gb(1,r)<=0:\n",
    "            rootb=0\n",
    "        elif gb(0,r)>=0 and gb(1,r)>=0:\n",
    "            rootb=1\n",
    "        else: \n",
    "            rootb=optimize.bisect(gb,0,1,args=(r)) \n",
    "        wb_bis[s]=rootb\n",
    "    # optimal weights of the risky asset averaged over n_experiments\n",
    "    w_al.append(np.mean(w_bis))\n",
    "    wb_al.append(np.mean(wb_bis))"
   ]
  },
  {
   "cell_type": "code",
   "execution_count": 13,
   "metadata": {},
   "outputs": [
    {
     "output_type": "execute_result",
     "data": {
      "text/plain": "                       0       1       2       3       4       5       6    7\nalpha             0.0010  0.0100  0.1000  0.2000  0.3000  0.5000  0.7500  0.9\nordinary utility  0.7381  0.7448  0.8188  0.9118  0.9775  1.0000  1.0000  1.0\nrelative utility  0.7376  0.7397  0.7637  0.7961  0.8367  0.9245  0.9909  1.0",
      "text/html": "<div>\n<style scoped>\n    .dataframe tbody tr th:only-of-type {\n        vertical-align: middle;\n    }\n\n    .dataframe tbody tr th {\n        vertical-align: top;\n    }\n\n    .dataframe thead th {\n        text-align: right;\n    }\n</style>\n<table border=\"1\" class=\"dataframe\">\n  <thead>\n    <tr style=\"text-align: right;\">\n      <th></th>\n      <th>0</th>\n      <th>1</th>\n      <th>2</th>\n      <th>3</th>\n      <th>4</th>\n      <th>5</th>\n      <th>6</th>\n      <th>7</th>\n    </tr>\n  </thead>\n  <tbody>\n    <tr>\n      <th>alpha</th>\n      <td>0.0010</td>\n      <td>0.0100</td>\n      <td>0.1000</td>\n      <td>0.2000</td>\n      <td>0.3000</td>\n      <td>0.5000</td>\n      <td>0.7500</td>\n      <td>0.9</td>\n    </tr>\n    <tr>\n      <th>ordinary utility</th>\n      <td>0.7381</td>\n      <td>0.7448</td>\n      <td>0.8188</td>\n      <td>0.9118</td>\n      <td>0.9775</td>\n      <td>1.0000</td>\n      <td>1.0000</td>\n      <td>1.0</td>\n    </tr>\n    <tr>\n      <th>relative utility</th>\n      <td>0.7376</td>\n      <td>0.7397</td>\n      <td>0.7637</td>\n      <td>0.7961</td>\n      <td>0.8367</td>\n      <td>0.9245</td>\n      <td>0.9909</td>\n      <td>1.0</td>\n    </tr>\n  </tbody>\n</table>\n</div>"
     },
     "metadata": {},
     "execution_count": 13
    }
   ],
   "source": [
    "# Table of optimal weights for ordinary and relative power utlity\n",
    "import pandas as pd \n",
    "table=pd.DataFrame(index=['alpha','ordinary utility','relative utility'],data=np.round([alphas,w_al,wb_al],4))     \n",
    "table"
   ]
  },
  {
   "cell_type": "code",
   "execution_count": 14,
   "metadata": {},
   "outputs": [
    {
     "output_type": "stream",
     "name": "stdout",
     "text": "0.8100864807911421\n"
    }
   ],
   "source": [
    "\n",
    "# This cell computes the optimal weight of the risky asset, using large ssample\n",
    "N=10**7\n",
    "alpha=0.2\n",
    "np.random.seed(1000) \n",
    "r=np.random.lognormal(mean=(mu-sigma**2/2)/252, sigma=sigma/np.sqrt(252), size=N) \n",
    "if gb(0,r)<=0 and gb(1,r)<=0:\n",
    "    rootb=0\n",
    "elif gb(0,r)>=0 and gb(1,r)>=0:\n",
    "    rootb=1\n",
    "else: \n",
    "    rootb=optimize.bisect(gb,0,1,args=(r)) \n",
    "print(rootb)"
   ]
  },
  {
   "cell_type": "code",
   "execution_count": 24,
   "metadata": {},
   "outputs": [],
   "source": [
    "def U(nu,r):\n",
    "    \"\"\" Power utility minus its value at zero\n",
    "    \"\"\"\n",
    "    # r: the array of the risky asset returns\n",
    "    z=((1+nu*(r-1))/np.fmax(r,1))**alpha\n",
    "    return np.mean(z)"
   ]
  },
  {
   "cell_type": "code",
   "execution_count": 26,
   "metadata": {},
   "outputs": [
    {
     "output_type": "execute_result",
     "data": {
      "text/plain": "0.4201594284181098"
     },
     "metadata": {},
     "execution_count": 26
    }
   ],
   "source": [
    "# The transformed utility of the optimal portfolio\n",
    "U0=np.mean((1/np.fmax(r,1))**alpha)\n",
    "(U(rootb,r)-U0)*10**4"
   ]
  },
  {
   "cell_type": "code",
   "execution_count": null,
   "metadata": {},
   "outputs": [],
   "source": []
  }
 ],
 "metadata": {
  "kernelspec": {
   "display_name": "Python 3",
   "language": "python",
   "name": "python3"
  },
  "language_info": {
   "codemirror_mode": {
    "name": "ipython",
    "version": 3
   },
   "file_extension": ".py",
   "mimetype": "text/x-python",
   "name": "python",
   "nbconvert_exporter": "python",
   "pygments_lexer": "ipython3",
   "version": "3.7.3-final"
  }
 },
 "nbformat": 4,
 "nbformat_minor": 2
}