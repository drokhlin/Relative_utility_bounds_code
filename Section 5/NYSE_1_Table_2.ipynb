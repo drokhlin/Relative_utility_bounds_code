{
 "cells": [
  {
   "cell_type": "code",
   "execution_count": 1,
   "metadata": {},
   "outputs": [],
   "source": [
    "\"\"\" This notebook \n",
    "(1) takes optimal portfolios from the file log_opt_portf_NYSE_1.txt, which correspond to n_experiment=30 runs of the GDSEG algorithm \n",
    "(2) drops small weights and normalizes the remaining ones\n",
    "(3) constructs the table containing optimal weights, total wealth and annual return for each portolio\n",
    "(4) constructs the table containing minimal and maximal values of each weight in these portfolios (Table 2 of the paper)\n",
    "The file log_opt_portf_NYSE_1.txt should be constructed by NYSE_1_log_GDSEG.ipynb beforehand\n",
    "\"\"\"\n",
    "import pandas as pd\n",
    "import numpy as np\n",
    "from scipy import stats"
   ]
  },
  {
   "cell_type": "code",
   "execution_count": 2,
   "metadata": {},
   "outputs": [
    {
     "output_type": "stream",
     "name": "stdout",
     "text": "(5651, 36)\n"
    },
    {
     "output_type": "execute_result",
     "data": {
      "text/plain": "       ahp    alcoa    amerb     arco     coke    comme      dow   dupont  \\\n0  1.01515  1.02765  1.04183  1.02083  1.00637  1.04938  1.00847  1.01983   \n1  1.01493  1.04036  0.98905  0.99490  1.00475  0.95294  1.00840  1.00833   \n2  1.00000  0.97629  0.97786  0.99744  0.98583  0.98765  0.99722  0.99449   \n3  1.02451  1.00662  1.02642  1.00257  1.01917  1.00000  0.99443  1.00693   \n4  1.03100  0.98465  1.00368  1.00513  1.00313  1.05000  1.02801  1.00413   \n\n     espey    exxon  ...    merck      mmm    mobil   morris    pandg  \\\n0  1.05426  0.99751  ...  1.03148  1.03377  1.01018  1.01495  1.00775   \n1  1.04412  1.00500  ...  1.00898  1.00251  1.01259  1.00000  1.00192   \n2  0.97183  1.00000  ...  0.98043  0.95990  0.99751  0.97218  0.98656   \n3  1.00000  1.00000  ...  1.01089  1.03655  1.01247  0.99663  1.00778   \n4  1.05797  1.01741  ...  1.01077  0.99496  0.99507  0.98649  1.01158   \n\n     pills   schlum    sears    sherw      tex  \n0  1.00526  1.01176  1.00578  0.99697  0.99752  \n1  1.00000  1.01938  1.00958  0.99088  1.00248  \n2  0.98429  0.97338  1.00000  1.02761  0.99752  \n3  1.01596  1.00000  1.00190  1.00299  1.02233  \n4  0.99738  1.01563  1.01515  1.01190  1.00971  \n\n[5 rows x 36 columns]",
      "text/html": "<div>\n<style scoped>\n    .dataframe tbody tr th:only-of-type {\n        vertical-align: middle;\n    }\n\n    .dataframe tbody tr th {\n        vertical-align: top;\n    }\n\n    .dataframe thead th {\n        text-align: right;\n    }\n</style>\n<table border=\"1\" class=\"dataframe\">\n  <thead>\n    <tr style=\"text-align: right;\">\n      <th></th>\n      <th>ahp</th>\n      <th>alcoa</th>\n      <th>amerb</th>\n      <th>arco</th>\n      <th>coke</th>\n      <th>comme</th>\n      <th>dow</th>\n      <th>dupont</th>\n      <th>espey</th>\n      <th>exxon</th>\n      <th>...</th>\n      <th>merck</th>\n      <th>mmm</th>\n      <th>mobil</th>\n      <th>morris</th>\n      <th>pandg</th>\n      <th>pills</th>\n      <th>schlum</th>\n      <th>sears</th>\n      <th>sherw</th>\n      <th>tex</th>\n    </tr>\n  </thead>\n  <tbody>\n    <tr>\n      <th>0</th>\n      <td>1.01515</td>\n      <td>1.02765</td>\n      <td>1.04183</td>\n      <td>1.02083</td>\n      <td>1.00637</td>\n      <td>1.04938</td>\n      <td>1.00847</td>\n      <td>1.01983</td>\n      <td>1.05426</td>\n      <td>0.99751</td>\n      <td>...</td>\n      <td>1.03148</td>\n      <td>1.03377</td>\n      <td>1.01018</td>\n      <td>1.01495</td>\n      <td>1.00775</td>\n      <td>1.00526</td>\n      <td>1.01176</td>\n      <td>1.00578</td>\n      <td>0.99697</td>\n      <td>0.99752</td>\n    </tr>\n    <tr>\n      <th>1</th>\n      <td>1.01493</td>\n      <td>1.04036</td>\n      <td>0.98905</td>\n      <td>0.99490</td>\n      <td>1.00475</td>\n      <td>0.95294</td>\n      <td>1.00840</td>\n      <td>1.00833</td>\n      <td>1.04412</td>\n      <td>1.00500</td>\n      <td>...</td>\n      <td>1.00898</td>\n      <td>1.00251</td>\n      <td>1.01259</td>\n      <td>1.00000</td>\n      <td>1.00192</td>\n      <td>1.00000</td>\n      <td>1.01938</td>\n      <td>1.00958</td>\n      <td>0.99088</td>\n      <td>1.00248</td>\n    </tr>\n    <tr>\n      <th>2</th>\n      <td>1.00000</td>\n      <td>0.97629</td>\n      <td>0.97786</td>\n      <td>0.99744</td>\n      <td>0.98583</td>\n      <td>0.98765</td>\n      <td>0.99722</td>\n      <td>0.99449</td>\n      <td>0.97183</td>\n      <td>1.00000</td>\n      <td>...</td>\n      <td>0.98043</td>\n      <td>0.95990</td>\n      <td>0.99751</td>\n      <td>0.97218</td>\n      <td>0.98656</td>\n      <td>0.98429</td>\n      <td>0.97338</td>\n      <td>1.00000</td>\n      <td>1.02761</td>\n      <td>0.99752</td>\n    </tr>\n    <tr>\n      <th>3</th>\n      <td>1.02451</td>\n      <td>1.00662</td>\n      <td>1.02642</td>\n      <td>1.00257</td>\n      <td>1.01917</td>\n      <td>1.00000</td>\n      <td>0.99443</td>\n      <td>1.00693</td>\n      <td>1.00000</td>\n      <td>1.00000</td>\n      <td>...</td>\n      <td>1.01089</td>\n      <td>1.03655</td>\n      <td>1.01247</td>\n      <td>0.99663</td>\n      <td>1.00778</td>\n      <td>1.01596</td>\n      <td>1.00000</td>\n      <td>1.00190</td>\n      <td>1.00299</td>\n      <td>1.02233</td>\n    </tr>\n    <tr>\n      <th>4</th>\n      <td>1.03100</td>\n      <td>0.98465</td>\n      <td>1.00368</td>\n      <td>1.00513</td>\n      <td>1.00313</td>\n      <td>1.05000</td>\n      <td>1.02801</td>\n      <td>1.00413</td>\n      <td>1.05797</td>\n      <td>1.01741</td>\n      <td>...</td>\n      <td>1.01077</td>\n      <td>0.99496</td>\n      <td>0.99507</td>\n      <td>0.98649</td>\n      <td>1.01158</td>\n      <td>0.99738</td>\n      <td>1.01563</td>\n      <td>1.01515</td>\n      <td>1.01190</td>\n      <td>1.00971</td>\n    </tr>\n  </tbody>\n</table>\n<p>5 rows × 36 columns</p>\n</div>"
     },
     "metadata": {},
     "execution_count": 2
    }
   ],
   "source": [
    "# Importing NYSE_1 dataset\n",
    "stocks=pd.read_csv('NYSE_1.csv')\n",
    "print(stocks.shape)\n",
    "stocks.head()"
   ]
  },
  {
   "cell_type": "code",
   "execution_count": 3,
   "metadata": {},
   "outputs": [],
   "source": [
    "# r: array for stock returns\n",
    "N=stocks.shape[0]\n",
    "d=stocks.shape[1]\n",
    "r=np.zeros((N,d))\n",
    "r=stocks.to_numpy()"
   ]
  },
  {
   "cell_type": "code",
   "execution_count": 4,
   "metadata": {},
   "outputs": [],
   "source": [
    "def refine(w,tol=1/10**3):\n",
    "    \"\"\" Drops small weights and normalizes the remaining ones \"\"\"\n",
    "    d=w.shape[0]\n",
    "    opt_num=[i for i in range(d) if w[i]>tol]\n",
    "    w=w[opt_num]/np.sum(w[opt_num])    \n",
    "    return opt_num, w"
   ]
  },
  {
   "cell_type": "code",
   "execution_count": 5,
   "metadata": {
    "tags": [
     "outputPrepend"
    ]
   },
   "outputs": [],
   "source": [
    "# Take optimal portfolio weights from the file log_opt_portf_NYSE_1.txt\n",
    "f=open('log_opt_portf_NYSE_1.txt','r')\n",
    "n_experiments=sum(1 for line in f)\n",
    "f.close()\n",
    "opt_portf=np.zeros((n_experiments,d))\n",
    "f=open('log_opt_portf_NYSE_1.txt','r')\n",
    "s=-1\n",
    "for line in f:\n",
    "    s+=1\n",
    "    opt_portf[s,:]=[float(x) for x in line.split()]\n",
    "f.close()"
   ]
  },
  {
   "cell_type": "code",
   "execution_count": 6,
   "metadata": {},
   "outputs": [],
   "source": [
    "# wd: dictionary, containing optimal weights after dropping the small weights\n",
    "# opt_num_d: dictionary, containing the numbers of stocks with large weights\n",
    "# X[s]: total wealth of the optimal portolio with number s\n",
    "wd={}\n",
    "opt_num_d={}\n",
    "X=np.ones(n_experiments)\n",
    "for s in range(n_experiments):\n",
    "    opt_num, w = refine(opt_portf[s,:])  \n",
    "    opt_num_d[s]=opt_num\n",
    "    wd[s]=w\n",
    "    for t in range(N):\n",
    "        X[s]=X[s]*np.dot(w,r[t,opt_num])"
   ]
  },
  {
   "cell_type": "code",
   "execution_count": 7,
   "metadata": {},
   "outputs": [
    {
     "output_type": "execute_result",
     "data": {
      "text/plain": "    comme  espey  iroqu  kinar  meico     comme     espey     iroqu     kinar  \\\n0       5      8     19     22     25  0.276725  0.195490  0.092524  0.250767   \n1       5      8     19     22     25  0.276684  0.195400  0.092716  0.250845   \n2       5      8     19     22     25  0.276749  0.195289  0.092587  0.250676   \n3       5      8     19     22     25  0.276646  0.195616  0.092657  0.250707   \n4       5      8     19     22     25  0.276769  0.195522  0.092577  0.250715   \n5       5      8     19     22     25  0.276661  0.195504  0.092490  0.250636   \n6       5      8     19     22     25  0.276868  0.195396  0.092606  0.250727   \n7       5      8     19     22     25  0.276794  0.195406  0.092811  0.250729   \n8       5      8     19     22     25  0.276667  0.195310  0.092917  0.250583   \n9       5      8     19     22     25  0.277012  0.195277  0.092641  0.250763   \n10      5      8     19     22     25  0.276997  0.195385  0.092600  0.250737   \n11      5      8     19     22     25  0.276791  0.195337  0.092654  0.250750   \n12      5      8     19     22     25  0.276654  0.195252  0.092881  0.250699   \n13      5      8     19     22     25  0.276853  0.195383  0.092825  0.250726   \n14      5      8     19     22     25  0.276567  0.195167  0.092754  0.250783   \n15      5      8     19     22     25  0.276649  0.195431  0.092807  0.250814   \n16      5      8     19     22     25  0.276789  0.195396  0.092741  0.250654   \n17      5      8     19     22     25  0.276701  0.195458  0.092743  0.250614   \n18      5      8     19     22     25  0.276675  0.195409  0.092585  0.250594   \n19      5      8     19     22     25  0.276718  0.195470  0.092725  0.250687   \n20      5      8     19     22     25  0.276588  0.195330  0.092808  0.250795   \n21      5      8     19     22     25  0.276793  0.195296  0.092785  0.250646   \n22      5      8     19     22     25  0.276617  0.195597  0.092700  0.250735   \n23      5      8     19     22     25  0.277018  0.195301  0.092711  0.250675   \n24      5      8     19     22     25  0.276951  0.195220  0.092679  0.250670   \n25      5      8     19     22     25  0.276892  0.195503  0.092678  0.250650   \n26      5      8     19     22     25  0.276787  0.195468  0.092620  0.250793   \n27      5      8     19     22     25  0.276855  0.195344  0.092766  0.250711   \n28      5      8     19     22     25  0.276726  0.195409  0.092648  0.250623   \n29      5      8     19     22     25  0.276895  0.195451  0.092505  0.250657   \n\n       meico      Wealth  Annual return  \n0   0.184493  250.597008       1.279321  \n1   0.184355  250.597009       1.279321  \n2   0.184699  250.597046       1.279321  \n3   0.184374  250.596963       1.279321  \n4   0.184417  250.597007       1.279321  \n5   0.184708  250.596976       1.279321  \n6   0.184403  250.597037       1.279321  \n7   0.184260  250.597003       1.279321  \n8   0.184523  250.597013       1.279321  \n9   0.184306  250.596995       1.279321  \n10  0.184281  250.596984       1.279321  \n11  0.184467  250.597063       1.279321  \n12  0.184513  250.597047       1.279321  \n13  0.184213  250.596982       1.279321  \n14  0.184729  250.597014       1.279321  \n15  0.184300  250.596992       1.279321  \n16  0.184419  250.597051       1.279321  \n17  0.184484  250.597035       1.279321  \n18  0.184736  250.597009       1.279321  \n19  0.184400  250.597036       1.279321  \n20  0.184478  250.597042       1.279321  \n21  0.184480  250.597060       1.279321  \n22  0.184351  250.596965       1.279321  \n23  0.184296  250.596999       1.279321  \n24  0.184480  250.597043       1.279321  \n25  0.184277  250.596977       1.279321  \n26  0.184332  250.597000       1.279321  \n27  0.184324  250.597034       1.279321  \n28  0.184593  250.597050       1.279321  \n29  0.184493  250.597007       1.279321  ",
      "text/html": "<div>\n<style scoped>\n    .dataframe tbody tr th:only-of-type {\n        vertical-align: middle;\n    }\n\n    .dataframe tbody tr th {\n        vertical-align: top;\n    }\n\n    .dataframe thead th {\n        text-align: right;\n    }\n</style>\n<table border=\"1\" class=\"dataframe\">\n  <thead>\n    <tr style=\"text-align: right;\">\n      <th></th>\n      <th>comme</th>\n      <th>espey</th>\n      <th>iroqu</th>\n      <th>kinar</th>\n      <th>meico</th>\n      <th>comme</th>\n      <th>espey</th>\n      <th>iroqu</th>\n      <th>kinar</th>\n      <th>meico</th>\n      <th>Wealth</th>\n      <th>Annual return</th>\n    </tr>\n  </thead>\n  <tbody>\n    <tr>\n      <th>0</th>\n      <td>5</td>\n      <td>8</td>\n      <td>19</td>\n      <td>22</td>\n      <td>25</td>\n      <td>0.276725</td>\n      <td>0.195490</td>\n      <td>0.092524</td>\n      <td>0.250767</td>\n      <td>0.184493</td>\n      <td>250.597008</td>\n      <td>1.279321</td>\n    </tr>\n    <tr>\n      <th>1</th>\n      <td>5</td>\n      <td>8</td>\n      <td>19</td>\n      <td>22</td>\n      <td>25</td>\n      <td>0.276684</td>\n      <td>0.195400</td>\n      <td>0.092716</td>\n      <td>0.250845</td>\n      <td>0.184355</td>\n      <td>250.597009</td>\n      <td>1.279321</td>\n    </tr>\n    <tr>\n      <th>2</th>\n      <td>5</td>\n      <td>8</td>\n      <td>19</td>\n      <td>22</td>\n      <td>25</td>\n      <td>0.276749</td>\n      <td>0.195289</td>\n      <td>0.092587</td>\n      <td>0.250676</td>\n      <td>0.184699</td>\n      <td>250.597046</td>\n      <td>1.279321</td>\n    </tr>\n    <tr>\n      <th>3</th>\n      <td>5</td>\n      <td>8</td>\n      <td>19</td>\n      <td>22</td>\n      <td>25</td>\n      <td>0.276646</td>\n      <td>0.195616</td>\n      <td>0.092657</td>\n      <td>0.250707</td>\n      <td>0.184374</td>\n      <td>250.596963</td>\n      <td>1.279321</td>\n    </tr>\n    <tr>\n      <th>4</th>\n      <td>5</td>\n      <td>8</td>\n      <td>19</td>\n      <td>22</td>\n      <td>25</td>\n      <td>0.276769</td>\n      <td>0.195522</td>\n      <td>0.092577</td>\n      <td>0.250715</td>\n      <td>0.184417</td>\n      <td>250.597007</td>\n      <td>1.279321</td>\n    </tr>\n    <tr>\n      <th>5</th>\n      <td>5</td>\n      <td>8</td>\n      <td>19</td>\n      <td>22</td>\n      <td>25</td>\n      <td>0.276661</td>\n      <td>0.195504</td>\n      <td>0.092490</td>\n      <td>0.250636</td>\n      <td>0.184708</td>\n      <td>250.596976</td>\n      <td>1.279321</td>\n    </tr>\n    <tr>\n      <th>6</th>\n      <td>5</td>\n      <td>8</td>\n      <td>19</td>\n      <td>22</td>\n      <td>25</td>\n      <td>0.276868</td>\n      <td>0.195396</td>\n      <td>0.092606</td>\n      <td>0.250727</td>\n      <td>0.184403</td>\n      <td>250.597037</td>\n      <td>1.279321</td>\n    </tr>\n    <tr>\n      <th>7</th>\n      <td>5</td>\n      <td>8</td>\n      <td>19</td>\n      <td>22</td>\n      <td>25</td>\n      <td>0.276794</td>\n      <td>0.195406</td>\n      <td>0.092811</td>\n      <td>0.250729</td>\n      <td>0.184260</td>\n      <td>250.597003</td>\n      <td>1.279321</td>\n    </tr>\n    <tr>\n      <th>8</th>\n      <td>5</td>\n      <td>8</td>\n      <td>19</td>\n      <td>22</td>\n      <td>25</td>\n      <td>0.276667</td>\n      <td>0.195310</td>\n      <td>0.092917</td>\n      <td>0.250583</td>\n      <td>0.184523</td>\n      <td>250.597013</td>\n      <td>1.279321</td>\n    </tr>\n    <tr>\n      <th>9</th>\n      <td>5</td>\n      <td>8</td>\n      <td>19</td>\n      <td>22</td>\n      <td>25</td>\n      <td>0.277012</td>\n      <td>0.195277</td>\n      <td>0.092641</td>\n      <td>0.250763</td>\n      <td>0.184306</td>\n      <td>250.596995</td>\n      <td>1.279321</td>\n    </tr>\n    <tr>\n      <th>10</th>\n      <td>5</td>\n      <td>8</td>\n      <td>19</td>\n      <td>22</td>\n      <td>25</td>\n      <td>0.276997</td>\n      <td>0.195385</td>\n      <td>0.092600</td>\n      <td>0.250737</td>\n      <td>0.184281</td>\n      <td>250.596984</td>\n      <td>1.279321</td>\n    </tr>\n    <tr>\n      <th>11</th>\n      <td>5</td>\n      <td>8</td>\n      <td>19</td>\n      <td>22</td>\n      <td>25</td>\n      <td>0.276791</td>\n      <td>0.195337</td>\n      <td>0.092654</td>\n      <td>0.250750</td>\n      <td>0.184467</td>\n      <td>250.597063</td>\n      <td>1.279321</td>\n    </tr>\n    <tr>\n      <th>12</th>\n      <td>5</td>\n      <td>8</td>\n      <td>19</td>\n      <td>22</td>\n      <td>25</td>\n      <td>0.276654</td>\n      <td>0.195252</td>\n      <td>0.092881</td>\n      <td>0.250699</td>\n      <td>0.184513</td>\n      <td>250.597047</td>\n      <td>1.279321</td>\n    </tr>\n    <tr>\n      <th>13</th>\n      <td>5</td>\n      <td>8</td>\n      <td>19</td>\n      <td>22</td>\n      <td>25</td>\n      <td>0.276853</td>\n      <td>0.195383</td>\n      <td>0.092825</td>\n      <td>0.250726</td>\n      <td>0.184213</td>\n      <td>250.596982</td>\n      <td>1.279321</td>\n    </tr>\n    <tr>\n      <th>14</th>\n      <td>5</td>\n      <td>8</td>\n      <td>19</td>\n      <td>22</td>\n      <td>25</td>\n      <td>0.276567</td>\n      <td>0.195167</td>\n      <td>0.092754</td>\n      <td>0.250783</td>\n      <td>0.184729</td>\n      <td>250.597014</td>\n      <td>1.279321</td>\n    </tr>\n    <tr>\n      <th>15</th>\n      <td>5</td>\n      <td>8</td>\n      <td>19</td>\n      <td>22</td>\n      <td>25</td>\n      <td>0.276649</td>\n      <td>0.195431</td>\n      <td>0.092807</td>\n      <td>0.250814</td>\n      <td>0.184300</td>\n      <td>250.596992</td>\n      <td>1.279321</td>\n    </tr>\n    <tr>\n      <th>16</th>\n      <td>5</td>\n      <td>8</td>\n      <td>19</td>\n      <td>22</td>\n      <td>25</td>\n      <td>0.276789</td>\n      <td>0.195396</td>\n      <td>0.092741</td>\n      <td>0.250654</td>\n      <td>0.184419</td>\n      <td>250.597051</td>\n      <td>1.279321</td>\n    </tr>\n    <tr>\n      <th>17</th>\n      <td>5</td>\n      <td>8</td>\n      <td>19</td>\n      <td>22</td>\n      <td>25</td>\n      <td>0.276701</td>\n      <td>0.195458</td>\n      <td>0.092743</td>\n      <td>0.250614</td>\n      <td>0.184484</td>\n      <td>250.597035</td>\n      <td>1.279321</td>\n    </tr>\n    <tr>\n      <th>18</th>\n      <td>5</td>\n      <td>8</td>\n      <td>19</td>\n      <td>22</td>\n      <td>25</td>\n      <td>0.276675</td>\n      <td>0.195409</td>\n      <td>0.092585</td>\n      <td>0.250594</td>\n      <td>0.184736</td>\n      <td>250.597009</td>\n      <td>1.279321</td>\n    </tr>\n    <tr>\n      <th>19</th>\n      <td>5</td>\n      <td>8</td>\n      <td>19</td>\n      <td>22</td>\n      <td>25</td>\n      <td>0.276718</td>\n      <td>0.195470</td>\n      <td>0.092725</td>\n      <td>0.250687</td>\n      <td>0.184400</td>\n      <td>250.597036</td>\n      <td>1.279321</td>\n    </tr>\n    <tr>\n      <th>20</th>\n      <td>5</td>\n      <td>8</td>\n      <td>19</td>\n      <td>22</td>\n      <td>25</td>\n      <td>0.276588</td>\n      <td>0.195330</td>\n      <td>0.092808</td>\n      <td>0.250795</td>\n      <td>0.184478</td>\n      <td>250.597042</td>\n      <td>1.279321</td>\n    </tr>\n    <tr>\n      <th>21</th>\n      <td>5</td>\n      <td>8</td>\n      <td>19</td>\n      <td>22</td>\n      <td>25</td>\n      <td>0.276793</td>\n      <td>0.195296</td>\n      <td>0.092785</td>\n      <td>0.250646</td>\n      <td>0.184480</td>\n      <td>250.597060</td>\n      <td>1.279321</td>\n    </tr>\n    <tr>\n      <th>22</th>\n      <td>5</td>\n      <td>8</td>\n      <td>19</td>\n      <td>22</td>\n      <td>25</td>\n      <td>0.276617</td>\n      <td>0.195597</td>\n      <td>0.092700</td>\n      <td>0.250735</td>\n      <td>0.184351</td>\n      <td>250.596965</td>\n      <td>1.279321</td>\n    </tr>\n    <tr>\n      <th>23</th>\n      <td>5</td>\n      <td>8</td>\n      <td>19</td>\n      <td>22</td>\n      <td>25</td>\n      <td>0.277018</td>\n      <td>0.195301</td>\n      <td>0.092711</td>\n      <td>0.250675</td>\n      <td>0.184296</td>\n      <td>250.596999</td>\n      <td>1.279321</td>\n    </tr>\n    <tr>\n      <th>24</th>\n      <td>5</td>\n      <td>8</td>\n      <td>19</td>\n      <td>22</td>\n      <td>25</td>\n      <td>0.276951</td>\n      <td>0.195220</td>\n      <td>0.092679</td>\n      <td>0.250670</td>\n      <td>0.184480</td>\n      <td>250.597043</td>\n      <td>1.279321</td>\n    </tr>\n    <tr>\n      <th>25</th>\n      <td>5</td>\n      <td>8</td>\n      <td>19</td>\n      <td>22</td>\n      <td>25</td>\n      <td>0.276892</td>\n      <td>0.195503</td>\n      <td>0.092678</td>\n      <td>0.250650</td>\n      <td>0.184277</td>\n      <td>250.596977</td>\n      <td>1.279321</td>\n    </tr>\n    <tr>\n      <th>26</th>\n      <td>5</td>\n      <td>8</td>\n      <td>19</td>\n      <td>22</td>\n      <td>25</td>\n      <td>0.276787</td>\n      <td>0.195468</td>\n      <td>0.092620</td>\n      <td>0.250793</td>\n      <td>0.184332</td>\n      <td>250.597000</td>\n      <td>1.279321</td>\n    </tr>\n    <tr>\n      <th>27</th>\n      <td>5</td>\n      <td>8</td>\n      <td>19</td>\n      <td>22</td>\n      <td>25</td>\n      <td>0.276855</td>\n      <td>0.195344</td>\n      <td>0.092766</td>\n      <td>0.250711</td>\n      <td>0.184324</td>\n      <td>250.597034</td>\n      <td>1.279321</td>\n    </tr>\n    <tr>\n      <th>28</th>\n      <td>5</td>\n      <td>8</td>\n      <td>19</td>\n      <td>22</td>\n      <td>25</td>\n      <td>0.276726</td>\n      <td>0.195409</td>\n      <td>0.092648</td>\n      <td>0.250623</td>\n      <td>0.184593</td>\n      <td>250.597050</td>\n      <td>1.279321</td>\n    </tr>\n    <tr>\n      <th>29</th>\n      <td>5</td>\n      <td>8</td>\n      <td>19</td>\n      <td>22</td>\n      <td>25</td>\n      <td>0.276895</td>\n      <td>0.195451</td>\n      <td>0.092505</td>\n      <td>0.250657</td>\n      <td>0.184493</td>\n      <td>250.597007</td>\n      <td>1.279321</td>\n    </tr>\n  </tbody>\n</table>\n</div>"
     },
     "metadata": {},
     "execution_count": 7
    }
   ],
   "source": [
    "# Table_A contains optimal weights, total wealth and annual return for each optimal portolio\n",
    "table_0=pd.DataFrame(data=[opt_num_d[s] for s in range(n_experiments)],columns=stocks.columns[opt_num_d[s]])\n",
    "table_1=pd.DataFrame(data=[wd[s] for s in range(n_experiments)],columns=stocks.columns[opt_num])\n",
    "table_2=pd.DataFrame(data=[X[s] for s in range(n_experiments)],columns=['Wealth'])\n",
    "table_3=pd.DataFrame(data=[X[s]**(252/N) for s in range(n_experiments)],columns=['Annual return'])\n",
    "Table_A=pd.concat([table_0,table_1,table_2,table_3],axis=1)\n",
    "Table_A"
   ]
  },
  {
   "cell_type": "code",
   "execution_count": 8,
   "metadata": {},
   "outputs": [
    {
     "output_type": "execute_result",
     "data": {
      "text/plain": "       min weight  max weight\ncomme    0.276567    0.277018\nespey    0.195167    0.195616\niroqu    0.092490    0.092917\nkinar    0.250583    0.250845\nmeico    0.184213    0.184736",
      "text/html": "<div>\n<style scoped>\n    .dataframe tbody tr th:only-of-type {\n        vertical-align: middle;\n    }\n\n    .dataframe tbody tr th {\n        vertical-align: top;\n    }\n\n    .dataframe thead th {\n        text-align: right;\n    }\n</style>\n<table border=\"1\" class=\"dataframe\">\n  <thead>\n    <tr style=\"text-align: right;\">\n      <th></th>\n      <th>min weight</th>\n      <th>max weight</th>\n    </tr>\n  </thead>\n  <tbody>\n    <tr>\n      <th>comme</th>\n      <td>0.276567</td>\n      <td>0.277018</td>\n    </tr>\n    <tr>\n      <th>espey</th>\n      <td>0.195167</td>\n      <td>0.195616</td>\n    </tr>\n    <tr>\n      <th>iroqu</th>\n      <td>0.092490</td>\n      <td>0.092917</td>\n    </tr>\n    <tr>\n      <th>kinar</th>\n      <td>0.250583</td>\n      <td>0.250845</td>\n    </tr>\n    <tr>\n      <th>meico</th>\n      <td>0.184213</td>\n      <td>0.184736</td>\n    </tr>\n  </tbody>\n</table>\n</div>"
     },
     "metadata": {},
     "execution_count": 8
    }
   ],
   "source": [
    "# Table_B contains minimal and maximal values of optimal portfolio weights (Table 2 of the paper)\n",
    "a1=pd.DataFrame(index=stocks.columns[opt_num],data=[table_1.min()[j] for j in range(len(opt_num))],columns=['min weight'])\n",
    "a2=pd.DataFrame(index=stocks.columns[opt_num],data=[table_1.max()[j] for j in range(len(opt_num))],columns=['max weight'])\n",
    "Table_B=pd.concat([a1,a2],axis=1)\n",
    "Table_B\n"
   ]
  }
 ],
 "metadata": {
  "kernelspec": {
   "display_name": "Python 3",
   "language": "python",
   "name": "python3"
  },
  "language_info": {
   "codemirror_mode": {
    "name": "ipython",
    "version": 3
   },
   "file_extension": ".py",
   "mimetype": "text/x-python",
   "name": "python",
   "nbconvert_exporter": "python",
   "pygments_lexer": "ipython3",
   "version": "3.7.3-final"
  }
 },
 "nbformat": 4,
 "nbformat_minor": 2
}